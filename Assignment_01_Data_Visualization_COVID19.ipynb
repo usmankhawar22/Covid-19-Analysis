{
  "nbformat": 4,
  "nbformat_minor": 0,
  "metadata": {
    "kernelspec": {
      "display_name": "Python 3",
      "language": "python",
      "name": "python3"
    },
    "language_info": {
      "codemirror_mode": {
        "name": "ipython",
        "version": 3
      },
      "file_extension": ".py",
      "mimetype": "text/x-python",
      "name": "python",
      "nbconvert_exporter": "python",
      "pygments_lexer": "ipython3",
      "version": "3.7.7"
    },
    "colab": {
      "name": "Assignment_01_Data_Visualization_COVID19.ipynb",
      "provenance": [],
      "collapsed_sections": [],
      "include_colab_link": true
    }
  },
  "cells": [
    {
      "cell_type": "markdown",
      "metadata": {
        "id": "view-in-github",
        "colab_type": "text"
      },
      "source": [
        "<a href=\"https://colab.research.google.com/github/usmankhawar22/Covid-19-Analysis/blob/master/Assignment_01_Data_Visualization_COVID19.ipynb\" target=\"_parent\"><img src=\"https://colab.research.google.com/assets/colab-badge.svg\" alt=\"Open In Colab\"/></a>"
      ]
    },
    {
      "cell_type": "markdown",
      "metadata": {
        "id": "HoauFAdlRx94",
        "colab_type": "text"
      },
      "source": [
        "# Assignment # 01: Data Preprocessing and Visualization\n",
        "\n",
        "#**MUHAMMAD USMAN KHAWAR\n",
        "#208775\n",
        "#BESE-8B **"
      ]
    },
    {
      "cell_type": "markdown",
      "metadata": {
        "id": "y0V8tq8SRx-A",
        "colab_type": "text"
      },
      "source": [
        "# CS471: Machine Learning\n",
        "### BESE-8 AB\n",
        "### Instructors: Prof. Dr. Faisal Shafait, Dr. Muhammad Muneeb Ullah\n",
        "#### Due Date: March 18, 2020"
      ]
    },
    {
      "cell_type": "markdown",
      "metadata": {
        "id": "vxrmXF2fRx-D",
        "colab_type": "text"
      },
      "source": [
        "### Introduction\n",
        "\n",
        "The Novel Coronavirus (COVID19) which causes respiratory illnesss was first detected in Wuhan, China. Since the disease is contagious, it has spread all over the world due to the high number of tourism and business visits to / from China. As you all are very well aware, COVID19 has been labelled as a global pandemic now by World Health Organization. Countries such as Italy, China, Qatar, USA, Saudi Arabia, etc, have cancelled most of the flights and a lockdown notice has been issued in Italy to avoid further wide-spread of the virus. \n",
        "Scientists all over the world are trying to drive insights from the datasets to come up with a possible prediction which will help with early diagnosis of COVID-19, estimating the spread, and the virus frequency and duration. \n",
        "Johns Hopkins University has made an excellent dashboard using the affected cases data. The dataset is made available at Kaggle and can be downloaded for the purpose of research.\n",
        "For this assignment, we will use the Kaggle COVID-19 dataset (Download here: <a href=\"https://www.kaggle.com/sudalairajkumar/novel-corona-virus-2019-dataset\" title=\"DATASET\">DATASET</a>) and will try to learn some insights using the power of Machine Learning.\n",
        "The Johns Hopkins University's web based dashboard can be accessed here:\n",
        "<a href=\"https://gisanddata.maps.arcgis.com/apps/opsdashboard/index.html#/bda7594740fd40299423467b48e9ecf6\" title=\"Web Dashboard\">Web Dashboard</a>"
      ]
    },
    {
      "cell_type": "markdown",
      "metadata": {
        "id": "BlU8SEvkRx-J",
        "colab_type": "text"
      },
      "source": [
        "#### Question # 01\n",
        "\n",
        "As you must have noticed, there are 6 files in the data you have downloaded from Kaggle.\n",
        "For this question, we will use the main file `covid_19_data.csv`.\n",
        "The steps to follow are given:\n",
        "1. Read the data file and examine the features\n",
        "2. Since the dataset is a bit sparse, clean the dataset by dropping rows which have missing points.\n",
        "3. Print the initial 10 rows of the data."
      ]
    },
    {
      "cell_type": "code",
      "metadata": {
        "id": "rpOEGf7uRx-O",
        "colab_type": "code",
        "colab": {}
      },
      "source": [
        "import pandas as pd\n",
        "import numpy as np"
      ],
      "execution_count": 0,
      "outputs": []
    },
    {
      "cell_type": "code",
      "metadata": {
        "id": "4Yl-T-vtq_X3",
        "colab_type": "code",
        "outputId": "21cc58e1-225b-444b-bde6-3229425bfc01",
        "colab": {
          "base_uri": "https://localhost:8080/",
          "height": 402
        }
      },
      "source": [
        "df = pd.read_csv(\"covid_19_data.csv\")\n",
        "df\n"
      ],
      "execution_count": 0,
      "outputs": [
        {
          "output_type": "execute_result",
          "data": {
            "text/html": [
              "<div>\n",
              "<style scoped>\n",
              "    .dataframe tbody tr th:only-of-type {\n",
              "        vertical-align: middle;\n",
              "    }\n",
              "\n",
              "    .dataframe tbody tr th {\n",
              "        vertical-align: top;\n",
              "    }\n",
              "\n",
              "    .dataframe thead th {\n",
              "        text-align: right;\n",
              "    }\n",
              "</style>\n",
              "<table border=\"1\" class=\"dataframe\">\n",
              "  <thead>\n",
              "    <tr style=\"text-align: right;\">\n",
              "      <th></th>\n",
              "      <th>SNo</th>\n",
              "      <th>ObservationDate</th>\n",
              "      <th>Province/State</th>\n",
              "      <th>Country/Region</th>\n",
              "      <th>Last Update</th>\n",
              "      <th>Confirmed</th>\n",
              "      <th>Deaths</th>\n",
              "      <th>Recovered</th>\n",
              "    </tr>\n",
              "  </thead>\n",
              "  <tbody>\n",
              "    <tr>\n",
              "      <th>0</th>\n",
              "      <td>1</td>\n",
              "      <td>01/22/2020</td>\n",
              "      <td>Anhui</td>\n",
              "      <td>Mainland China</td>\n",
              "      <td>1/22/2020 17:00</td>\n",
              "      <td>1.0</td>\n",
              "      <td>0.0</td>\n",
              "      <td>0.0</td>\n",
              "    </tr>\n",
              "    <tr>\n",
              "      <th>1</th>\n",
              "      <td>2</td>\n",
              "      <td>01/22/2020</td>\n",
              "      <td>Beijing</td>\n",
              "      <td>Mainland China</td>\n",
              "      <td>1/22/2020 17:00</td>\n",
              "      <td>14.0</td>\n",
              "      <td>0.0</td>\n",
              "      <td>0.0</td>\n",
              "    </tr>\n",
              "    <tr>\n",
              "      <th>2</th>\n",
              "      <td>3</td>\n",
              "      <td>01/22/2020</td>\n",
              "      <td>Chongqing</td>\n",
              "      <td>Mainland China</td>\n",
              "      <td>1/22/2020 17:00</td>\n",
              "      <td>6.0</td>\n",
              "      <td>0.0</td>\n",
              "      <td>0.0</td>\n",
              "    </tr>\n",
              "    <tr>\n",
              "      <th>3</th>\n",
              "      <td>4</td>\n",
              "      <td>01/22/2020</td>\n",
              "      <td>Fujian</td>\n",
              "      <td>Mainland China</td>\n",
              "      <td>1/22/2020 17:00</td>\n",
              "      <td>1.0</td>\n",
              "      <td>0.0</td>\n",
              "      <td>0.0</td>\n",
              "    </tr>\n",
              "    <tr>\n",
              "      <th>4</th>\n",
              "      <td>5</td>\n",
              "      <td>01/22/2020</td>\n",
              "      <td>Gansu</td>\n",
              "      <td>Mainland China</td>\n",
              "      <td>1/22/2020 17:00</td>\n",
              "      <td>0.0</td>\n",
              "      <td>0.0</td>\n",
              "      <td>0.0</td>\n",
              "    </tr>\n",
              "    <tr>\n",
              "      <th>...</th>\n",
              "      <td>...</td>\n",
              "      <td>...</td>\n",
              "      <td>...</td>\n",
              "      <td>...</td>\n",
              "      <td>...</td>\n",
              "      <td>...</td>\n",
              "      <td>...</td>\n",
              "      <td>...</td>\n",
              "    </tr>\n",
              "    <tr>\n",
              "      <th>6717</th>\n",
              "      <td>6718</td>\n",
              "      <td>03/18/2020</td>\n",
              "      <td>NaN</td>\n",
              "      <td>Guernsey</td>\n",
              "      <td>2020-03-17T18:33:03</td>\n",
              "      <td>0.0</td>\n",
              "      <td>0.0</td>\n",
              "      <td>0.0</td>\n",
              "    </tr>\n",
              "    <tr>\n",
              "      <th>6718</th>\n",
              "      <td>6719</td>\n",
              "      <td>03/18/2020</td>\n",
              "      <td>NaN</td>\n",
              "      <td>Jersey</td>\n",
              "      <td>2020-03-17T18:33:03</td>\n",
              "      <td>0.0</td>\n",
              "      <td>0.0</td>\n",
              "      <td>0.0</td>\n",
              "    </tr>\n",
              "    <tr>\n",
              "      <th>6719</th>\n",
              "      <td>6720</td>\n",
              "      <td>03/18/2020</td>\n",
              "      <td>NaN</td>\n",
              "      <td>Puerto Rico</td>\n",
              "      <td>2020-03-17T16:13:14</td>\n",
              "      <td>0.0</td>\n",
              "      <td>0.0</td>\n",
              "      <td>0.0</td>\n",
              "    </tr>\n",
              "    <tr>\n",
              "      <th>6720</th>\n",
              "      <td>6721</td>\n",
              "      <td>03/18/2020</td>\n",
              "      <td>NaN</td>\n",
              "      <td>Republic of the Congo</td>\n",
              "      <td>2020-03-17T21:33:03</td>\n",
              "      <td>0.0</td>\n",
              "      <td>0.0</td>\n",
              "      <td>0.0</td>\n",
              "    </tr>\n",
              "    <tr>\n",
              "      <th>6721</th>\n",
              "      <td>6722</td>\n",
              "      <td>03/18/2020</td>\n",
              "      <td>NaN</td>\n",
              "      <td>The Gambia</td>\n",
              "      <td>2020-03-18T14:13:56</td>\n",
              "      <td>0.0</td>\n",
              "      <td>0.0</td>\n",
              "      <td>0.0</td>\n",
              "    </tr>\n",
              "  </tbody>\n",
              "</table>\n",
              "<p>6722 rows × 8 columns</p>\n",
              "</div>"
            ],
            "text/plain": [
              "       SNo ObservationDate Province/State  ... Confirmed Deaths  Recovered\n",
              "0        1      01/22/2020          Anhui  ...       1.0    0.0        0.0\n",
              "1        2      01/22/2020        Beijing  ...      14.0    0.0        0.0\n",
              "2        3      01/22/2020      Chongqing  ...       6.0    0.0        0.0\n",
              "3        4      01/22/2020         Fujian  ...       1.0    0.0        0.0\n",
              "4        5      01/22/2020          Gansu  ...       0.0    0.0        0.0\n",
              "...    ...             ...            ...  ...       ...    ...        ...\n",
              "6717  6718      03/18/2020            NaN  ...       0.0    0.0        0.0\n",
              "6718  6719      03/18/2020            NaN  ...       0.0    0.0        0.0\n",
              "6719  6720      03/18/2020            NaN  ...       0.0    0.0        0.0\n",
              "6720  6721      03/18/2020            NaN  ...       0.0    0.0        0.0\n",
              "6721  6722      03/18/2020            NaN  ...       0.0    0.0        0.0\n",
              "\n",
              "[6722 rows x 8 columns]"
            ]
          },
          "metadata": {
            "tags": []
          },
          "execution_count": 5
        }
      ]
    },
    {
      "cell_type": "code",
      "metadata": {
        "id": "SUnQ4JpTr4J2",
        "colab_type": "code",
        "outputId": "1b5345e5-15f3-43f2-c4f7-520c72602b44",
        "colab": {
          "base_uri": "https://localhost:8080/",
          "height": 195
        }
      },
      "source": [
        "missing_data = df.isnull()\n",
        "missing_data.head(5)"
      ],
      "execution_count": 0,
      "outputs": [
        {
          "output_type": "execute_result",
          "data": {
            "text/html": [
              "<div>\n",
              "<style scoped>\n",
              "    .dataframe tbody tr th:only-of-type {\n",
              "        vertical-align: middle;\n",
              "    }\n",
              "\n",
              "    .dataframe tbody tr th {\n",
              "        vertical-align: top;\n",
              "    }\n",
              "\n",
              "    .dataframe thead th {\n",
              "        text-align: right;\n",
              "    }\n",
              "</style>\n",
              "<table border=\"1\" class=\"dataframe\">\n",
              "  <thead>\n",
              "    <tr style=\"text-align: right;\">\n",
              "      <th></th>\n",
              "      <th>SNo</th>\n",
              "      <th>ObservationDate</th>\n",
              "      <th>Province/State</th>\n",
              "      <th>Country/Region</th>\n",
              "      <th>Last Update</th>\n",
              "      <th>Confirmed</th>\n",
              "      <th>Deaths</th>\n",
              "      <th>Recovered</th>\n",
              "    </tr>\n",
              "  </thead>\n",
              "  <tbody>\n",
              "    <tr>\n",
              "      <th>0</th>\n",
              "      <td>False</td>\n",
              "      <td>False</td>\n",
              "      <td>False</td>\n",
              "      <td>False</td>\n",
              "      <td>False</td>\n",
              "      <td>False</td>\n",
              "      <td>False</td>\n",
              "      <td>False</td>\n",
              "    </tr>\n",
              "    <tr>\n",
              "      <th>1</th>\n",
              "      <td>False</td>\n",
              "      <td>False</td>\n",
              "      <td>False</td>\n",
              "      <td>False</td>\n",
              "      <td>False</td>\n",
              "      <td>False</td>\n",
              "      <td>False</td>\n",
              "      <td>False</td>\n",
              "    </tr>\n",
              "    <tr>\n",
              "      <th>2</th>\n",
              "      <td>False</td>\n",
              "      <td>False</td>\n",
              "      <td>False</td>\n",
              "      <td>False</td>\n",
              "      <td>False</td>\n",
              "      <td>False</td>\n",
              "      <td>False</td>\n",
              "      <td>False</td>\n",
              "    </tr>\n",
              "    <tr>\n",
              "      <th>3</th>\n",
              "      <td>False</td>\n",
              "      <td>False</td>\n",
              "      <td>False</td>\n",
              "      <td>False</td>\n",
              "      <td>False</td>\n",
              "      <td>False</td>\n",
              "      <td>False</td>\n",
              "      <td>False</td>\n",
              "    </tr>\n",
              "    <tr>\n",
              "      <th>4</th>\n",
              "      <td>False</td>\n",
              "      <td>False</td>\n",
              "      <td>False</td>\n",
              "      <td>False</td>\n",
              "      <td>False</td>\n",
              "      <td>False</td>\n",
              "      <td>False</td>\n",
              "      <td>False</td>\n",
              "    </tr>\n",
              "  </tbody>\n",
              "</table>\n",
              "</div>"
            ],
            "text/plain": [
              "     SNo  ObservationDate  Province/State  ...  Confirmed  Deaths  Recovered\n",
              "0  False            False           False  ...      False   False      False\n",
              "1  False            False           False  ...      False   False      False\n",
              "2  False            False           False  ...      False   False      False\n",
              "3  False            False           False  ...      False   False      False\n",
              "4  False            False           False  ...      False   False      False\n",
              "\n",
              "[5 rows x 8 columns]"
            ]
          },
          "metadata": {
            "tags": []
          },
          "execution_count": 7
        }
      ]
    },
    {
      "cell_type": "code",
      "metadata": {
        "id": "uzimBKXqsnKG",
        "colab_type": "code",
        "outputId": "9cd5029d-9b0a-415c-d0b4-58302b8de171",
        "colab": {
          "base_uri": "https://localhost:8080/",
          "height": 571
        }
      },
      "source": [
        "#data observation \n",
        "for column in missing_data.columns.values.tolist():\n",
        "    print(column)\n",
        "    print (missing_data[column].value_counts())\n",
        "    print(\"\")"
      ],
      "execution_count": 0,
      "outputs": [
        {
          "output_type": "stream",
          "text": [
            "SNo\n",
            "False    6722\n",
            "Name: SNo, dtype: int64\n",
            "\n",
            "ObservationDate\n",
            "False    6722\n",
            "Name: ObservationDate, dtype: int64\n",
            "\n",
            "Province/State\n",
            "False    3956\n",
            "True     2766\n",
            "Name: Province/State, dtype: int64\n",
            "\n",
            "Country/Region\n",
            "False    6722\n",
            "Name: Country/Region, dtype: int64\n",
            "\n",
            "Last Update\n",
            "False    6722\n",
            "Name: Last Update, dtype: int64\n",
            "\n",
            "Confirmed\n",
            "False    6722\n",
            "Name: Confirmed, dtype: int64\n",
            "\n",
            "Deaths\n",
            "False    6722\n",
            "Name: Deaths, dtype: int64\n",
            "\n",
            "Recovered\n",
            "False    6722\n",
            "Name: Recovered, dtype: int64\n",
            "\n"
          ],
          "name": "stdout"
        }
      ]
    },
    {
      "cell_type": "code",
      "metadata": {
        "id": "QYD3V3IPtkqP",
        "colab_type": "code",
        "outputId": "1af3eb24-2832-45aa-ae53-50edaa8272ec",
        "colab": {
          "base_uri": "https://localhost:8080/",
          "height": 655
        }
      },
      "source": [
        "#dropping sparse data\n",
        " df2=df          #we cant drop rows for iran in later question#3\n",
        " df1=df.dropna()   #for question 2\n",
        " df2['Country/Region'].unique()\n",
        " "
      ],
      "execution_count": 0,
      "outputs": [
        {
          "output_type": "execute_result",
          "data": {
            "text/plain": [
              "array(['Mainland China', 'Hong Kong', 'Macau', 'Taiwan', 'US', 'Japan',\n",
              "       'Thailand', 'South Korea', 'Singapore', 'Philippines', 'Malaysia',\n",
              "       'Vietnam', 'Australia', 'Mexico', 'Brazil', 'Colombia', 'France',\n",
              "       'Nepal', 'Canada', 'Cambodia', 'Sri Lanka', 'Ivory Coast',\n",
              "       'Germany', 'Finland', 'United Arab Emirates', 'India', 'Italy',\n",
              "       'UK', 'Russia', 'Sweden', 'Spain', 'Belgium', 'Others', 'Egypt',\n",
              "       'Iran', 'Israel', 'Lebanon', 'Iraq', 'Oman', 'Afghanistan',\n",
              "       'Bahrain', 'Kuwait', 'Austria', 'Algeria', 'Croatia',\n",
              "       'Switzerland', 'Pakistan', 'Georgia', 'Greece', 'North Macedonia',\n",
              "       'Norway', 'Romania', 'Denmark', 'Estonia', 'Netherlands',\n",
              "       'San Marino', ' Azerbaijan', 'Belarus', 'Iceland', 'Lithuania',\n",
              "       'New Zealand', 'Nigeria', 'North Ireland', 'Ireland', 'Luxembourg',\n",
              "       'Monaco', 'Qatar', 'Ecuador', 'Azerbaijan', 'Czech Republic',\n",
              "       'Armenia', 'Dominican Republic', 'Indonesia', 'Portugal',\n",
              "       'Andorra', 'Latvia', 'Morocco', 'Saudi Arabia', 'Senegal',\n",
              "       'Argentina', 'Chile', 'Jordan', 'Ukraine', 'Saint Barthelemy',\n",
              "       'Hungary', 'Faroe Islands', 'Gibraltar', 'Liechtenstein', 'Poland',\n",
              "       'Tunisia', 'Palestine', 'Bosnia and Herzegovina', 'Slovenia',\n",
              "       'South Africa', 'Bhutan', 'Cameroon', 'Costa Rica', 'Peru',\n",
              "       'Serbia', 'Slovakia', 'Togo', 'Vatican City', 'French Guiana',\n",
              "       'Malta', 'Martinique', 'Republic of Ireland', 'Bulgaria',\n",
              "       'Maldives', 'Bangladesh', 'Moldova', 'Paraguay', 'Albania',\n",
              "       'Cyprus', 'St. Martin', 'Brunei', 'occupied Palestinian territory',\n",
              "       \"('St. Martin',)\", 'Burkina Faso', 'Channel Islands', 'Holy See',\n",
              "       'Mongolia', 'Panama', 'Bolivia', 'Honduras', 'Congo (Kinshasa)',\n",
              "       'Jamaica', 'Reunion', 'Turkey', 'Cuba', 'Guyana', 'Kazakhstan',\n",
              "       'Cayman Islands', 'Guadeloupe', 'Ethiopia', 'Sudan', 'Guinea',\n",
              "       'Antigua and Barbuda', 'Aruba', 'Kenya', 'Uruguay', 'Ghana',\n",
              "       'Jersey', 'Namibia', 'Seychelles', 'Trinidad and Tobago',\n",
              "       'Venezuela', 'Curacao', 'Eswatini', 'Gabon', 'Guatemala',\n",
              "       'Guernsey', 'Mauritania', 'Rwanda', 'Saint Lucia',\n",
              "       'Saint Vincent and the Grenadines', 'Suriname', 'Kosovo',\n",
              "       'Central African Republic', 'Congo (Brazzaville)',\n",
              "       'Equatorial Guinea', 'Uzbekistan', 'Guam', 'Puerto Rico', 'Benin',\n",
              "       'Greenland', 'Liberia', 'Mayotte', 'Republic of the Congo',\n",
              "       'Somalia', 'Tanzania', 'The Bahamas', 'Barbados', 'Montenegro',\n",
              "       'The Gambia', 'Kyrgyzstan', 'Mauritius', 'Zambia', 'Djibouti',\n",
              "       'Gambia, The'], dtype=object)"
            ]
          },
          "metadata": {
            "tags": []
          },
          "execution_count": 9
        }
      ]
    },
    {
      "cell_type": "markdown",
      "metadata": {
        "id": "wExoKLDQRx-e",
        "colab_type": "text"
      },
      "source": [
        "#### Question # 02\n",
        "\n",
        "1. Rank the countries in the dataset in descending order according to the number of deaths.\n",
        "2. Figure out the most affected provinces/states in top 3 countries with most number of Deaths.\n",
        "3. Repeat the first two steps for Recovered and Confirmed cases as well.\n",
        "4. Plot a bar graph for top 10 states in China and US in accordance to the death cases, and recovered cases."
      ]
    },
    {
      "cell_type": "code",
      "metadata": {
        "id": "Rf0rnv0y0kHU",
        "colab_type": "code",
        "outputId": "6fb277b6-fc54-4457-9979-af4a6f4ea251",
        "colab": {
          "base_uri": "https://localhost:8080/",
          "height": 168
        }
      },
      "source": [
        "df1.dtypes"
      ],
      "execution_count": 0,
      "outputs": [
        {
          "output_type": "execute_result",
          "data": {
            "text/plain": [
              "SNo                  int64\n",
              "ObservationDate     object\n",
              "Province/State      object\n",
              "Country/Region      object\n",
              "Last Update         object\n",
              "Confirmed          float64\n",
              "Deaths             float64\n",
              "Recovered          float64\n",
              "dtype: object"
            ]
          },
          "metadata": {
            "tags": []
          },
          "execution_count": 10
        }
      ]
    },
    {
      "cell_type": "code",
      "metadata": {
        "id": "Q3ib2ZsQ1ZrK",
        "colab_type": "code",
        "outputId": "cc307340-0e03-4bb4-90a6-406551c8976a",
        "colab": {
          "base_uri": "https://localhost:8080/",
          "height": 67
        }
      },
      "source": [
        "#getting all the countries\n",
        "couuntries=df1['Country/Region'].unique()\n",
        "couuntries"
      ],
      "execution_count": 0,
      "outputs": [
        {
          "output_type": "execute_result",
          "data": {
            "text/plain": [
              "array(['Mainland China', 'Hong Kong', 'Macau', 'Taiwan', 'US', 'Canada',\n",
              "       'Australia', 'Germany', 'Others', 'Israel', 'Lebanon', 'Iraq',\n",
              "       'Austria', 'France', 'UK', 'Denmark', 'Netherlands'], dtype=object)"
            ]
          },
          "metadata": {
            "tags": []
          },
          "execution_count": 195
        }
      ]
    },
    {
      "cell_type": "markdown",
      "metadata": {
        "id": "ReefCnjQ3x88",
        "colab_type": "text"
      },
      "source": [
        "\n",
        "here I am group sorting by the highest number of deaths by countries and their provinces and latest value of dates\n",
        "\n"
      ]
    },
    {
      "cell_type": "code",
      "metadata": {
        "id": "mWWxwXNc7Xhr",
        "colab_type": "code",
        "outputId": "6a38a436-e487-4e5c-cd09-e36c0f371601",
        "colab": {
          "base_uri": "https://localhost:8080/",
          "height": 319
        }
      },
      "source": [
        "print(\"Countries ranked upon death rate\")\n",
        "x=df1.groupby(['Country/Region'])\n",
        "for c in couuntries:\n",
        "  \n",
        "  entity= x.get_group(c)\n",
        "  sum=entity['Deaths'].sum()\n",
        "  print(c, sum)"
      ],
      "execution_count": 0,
      "outputs": [
        {
          "output_type": "stream",
          "text": [
            "Countries ranked upon death rate\n",
            "Mainland China 103022.0\n",
            "Hong Kong 90.0\n",
            "Macau 0.0\n",
            "Taiwan 24.0\n",
            "US 691.0\n",
            "Canada 24.0\n",
            "Australia 51.0\n",
            "Germany 0.0\n",
            "Others 151.0\n",
            "Israel 0.0\n",
            "Lebanon 0.0\n",
            "Iraq 0.0\n",
            "Austria 0.0\n",
            "France 801.0\n",
            "UK 250.0\n",
            "Denmark 14.0\n",
            "Netherlands 125.0\n"
          ],
          "name": "stdout"
        }
      ]
    },
    {
      "cell_type": "code",
      "metadata": {
        "id": "ponIYb5u8sTE",
        "colab_type": "code",
        "colab": {}
      },
      "source": [
        "def Prov(country, df,parameter):\n",
        "  df=df.groupby(['Country/Region']).get_group(country).groupby(['Province/State'])\n",
        "  #china=china.sort_values('Deaths', ascending=False)\n",
        "  #china=china.groupby(['Province/State'])\n",
        "  values=df.groups.keys()\n",
        "  prov=dict()\n",
        "  for x in values:\n",
        "    latest = df.get_group(x)['ObservationDate'].max()\n",
        "  \n",
        "    sum=df.get_group(x).groupby('ObservationDate').get_group(latest)[parameter].sum()\n",
        "    prov[x]=sum\n",
        "    #print(dea)\n",
        "  prov= (sorted(prov.items(), key=lambda x: x[1], reverse=True)[:10])\n",
        "  return(prov)\n",
        "\n",
        "\n",
        "def plot(coun):\n",
        "  coun=dict(coun)\n",
        "  import matplotlib.pyplot as plt;\n",
        "  plt.xlabel('Provinces')\n",
        "  plt.ylabel('Total')\n",
        "  plt.title('top 10 provinces')\n",
        "  plt.bar(range(len(coun)),list(coun.values()), align='center')\n",
        "  plt.xticks(range(len(coun)),list(coun.keys()))\n",
        "  plt.xticks(rotation=90)\n",
        "  plt.show()\n",
        "\n",
        "#for question 4\n",
        "# def plotline(coun):\n",
        "#   coun=dict(coun)\n",
        "#   import matplotlib.pyplot as plt;\n",
        "\n",
        "#   plt.plot(range(len(coun)),list(coun.values()), align='center')\n",
        "#   plt.xticks(range(len(coun)),list(coun.keys()))\n",
        "#   plt.xticks(rotation=90)\n",
        "#   plt.show()\n",
        "  \n",
        "\n",
        "\n"
      ],
      "execution_count": 0,
      "outputs": []
    },
    {
      "cell_type": "markdown",
      "metadata": {
        "id": "ri2ADi44E3Nq",
        "colab_type": "text"
      },
      "source": [
        "#creating functions of above for the repitition steps\n"
      ]
    },
    {
      "cell_type": "code",
      "metadata": {
        "id": "iFPGnsEmGSMp",
        "colab_type": "code",
        "colab": {}
      },
      "source": [
        "\n",
        "\n",
        "def rank(dataframe,couuntries,parameter):\n",
        "  fram=dataframe.sort_values(parameter, ascending=False).drop_duplicates(['Country/Region','Province/State'])\n",
        "  x=fram.groupby(['Country/Region'])\n",
        "  records = dict()\n",
        "  print('Countries Ranked upon', parameter)\n",
        "  for c in couuntries:\n",
        "    entity= x.get_group(c)\n",
        "    sum=entity[parameter].sum()\n",
        "    records[c] = sum\n",
        "  sortedranks = sorted(records.items(), key=lambda x: x[1], reverse=True)\n",
        "  return sortedranks"
      ],
      "execution_count": 0,
      "outputs": []
    },
    {
      "cell_type": "code",
      "metadata": {
        "id": "WszLuTJXI084",
        "colab_type": "code",
        "outputId": "ba8adf97-e448-43af-d3e6-4ca740b2c202",
        "colab": {
          "base_uri": "https://localhost:8080/",
          "height": 319
        }
      },
      "source": [
        "deathsC=rank(df1,couuntries,'Deaths')\n",
        "deathsC\n"
      ],
      "execution_count": 0,
      "outputs": [
        {
          "output_type": "stream",
          "text": [
            "Countries Ranked upon Deaths\n"
          ],
          "name": "stdout"
        },
        {
          "output_type": "execute_result",
          "data": {
            "text/plain": [
              "[('Mainland China', 3237.0),\n",
              " ('France', 148.0),\n",
              " ('US', 141.0),\n",
              " ('UK', 80.0),\n",
              " ('Netherlands', 58.0),\n",
              " ('Canada', 8.0),\n",
              " ('Others', 7.0),\n",
              " ('Australia', 6.0),\n",
              " ('Hong Kong', 4.0),\n",
              " ('Denmark', 4.0),\n",
              " ('Taiwan', 1.0),\n",
              " ('Macau', 0.0),\n",
              " ('Germany', 0.0),\n",
              " ('Israel', 0.0),\n",
              " ('Lebanon', 0.0),\n",
              " ('Iraq', 0.0),\n",
              " ('Austria', 0.0)]"
            ]
          },
          "metadata": {
            "tags": []
          },
          "execution_count": 23
        }
      ]
    },
    {
      "cell_type": "code",
      "metadata": {
        "id": "LGinWnsHL5Ux",
        "colab_type": "code",
        "outputId": "2916afe0-478b-41fc-e4a6-7efc4644e960",
        "colab": {
          "base_uri": "https://localhost:8080/",
          "height": 319
        }
      },
      "source": [
        "ConfirmedC=rank(df1,couuntries,'Confirmed')\n",
        "ConfirmedC"
      ],
      "execution_count": 0,
      "outputs": [
        {
          "output_type": "stream",
          "text": [
            "Countries Ranked upon Confirmed\n"
          ],
          "name": "stdout"
        },
        {
          "output_type": "execute_result",
          "data": {
            "text/plain": [
              "[('Mainland China', 80907.0),\n",
              " ('France', 9080.0),\n",
              " ('US', 8546.0),\n",
              " ('UK', 3098.0),\n",
              " ('Netherlands', 2056.0),\n",
              " ('Denmark', 1115.0),\n",
              " ('Others', 773.0),\n",
              " ('Canada', 694.0),\n",
              " ('Australia', 576.0),\n",
              " ('Hong Kong', 181.0),\n",
              " ('Taiwan', 47.0),\n",
              " ('Macau', 15.0),\n",
              " ('Germany', 5.0),\n",
              " ('Austria', 2.0),\n",
              " ('Israel', 1.0),\n",
              " ('Lebanon', 1.0),\n",
              " ('Iraq', 0.0)]"
            ]
          },
          "metadata": {
            "tags": []
          },
          "execution_count": 24
        }
      ]
    },
    {
      "cell_type": "code",
      "metadata": {
        "id": "rGiY0QGjMTL-",
        "colab_type": "code",
        "outputId": "f6835533-1463-4b1e-cdfa-f71695f283c2",
        "colab": {
          "base_uri": "https://localhost:8080/",
          "height": 319
        }
      },
      "source": [
        "RecoveredC=rank(df1,couuntries,'Recovered')\n",
        "RecoveredC"
      ],
      "execution_count": 0,
      "outputs": [
        {
          "output_type": "stream",
          "text": [
            "Countries Ranked upon Recovered\n"
          ],
          "name": "stdout"
        },
        {
          "output_type": "execute_result",
          "data": {
            "text/plain": [
              "[('Mainland China', 69653.0),\n",
              " ('Others', 325.0),\n",
              " ('US', 137.0),\n",
              " ('Hong Kong', 92.0),\n",
              " ('UK', 85.0),\n",
              " ('Australia', 23.0),\n",
              " ('Taiwan', 17.0),\n",
              " ('Canada', 13.0),\n",
              " ('France', 12.0),\n",
              " ('Macau', 10.0),\n",
              " ('Netherlands', 2.0),\n",
              " ('Denmark', 1.0),\n",
              " ('Germany', 0.0),\n",
              " ('Israel', 0.0),\n",
              " ('Lebanon', 0.0),\n",
              " ('Iraq', 0.0),\n",
              " ('Austria', 0.0)]"
            ]
          },
          "metadata": {
            "tags": []
          },
          "execution_count": 25
        }
      ]
    },
    {
      "cell_type": "markdown",
      "metadata": {
        "id": "JGEAu5sO4TVN",
        "colab_type": "text"
      },
      "source": [
        "# function for top province\n"
      ]
    },
    {
      "cell_type": "code",
      "metadata": {
        "id": "bLPgR6x0Ruba",
        "colab_type": "code",
        "colab": {}
      },
      "source": [
        "def topProvince(dataframe,countries,parameters):\n",
        "  df2=df.sort_values(parameters, ascending=False).drop_duplicates(['Country/Region','Province/State'])\n",
        "  max=df2.groupby(['Country/Region'])\n",
        "  for c in countries:\n",
        "    top=max.get_group(c).iloc[0]\n",
        "    print(top['Country/Region'],top['Province/State'], top[parameters])"
      ],
      "execution_count": 0,
      "outputs": []
    },
    {
      "cell_type": "markdown",
      "metadata": {
        "id": "pwXoowGBE2Hw",
        "colab_type": "text"
      },
      "source": [
        "#the most affected provinces/states in top 3 countries with most number of Deaths."
      ]
    },
    {
      "cell_type": "code",
      "metadata": {
        "id": "mV-roneYc_Dy",
        "colab_type": "code",
        "outputId": "755a1d64-9749-4c99-be39-70566308065f",
        "colab": {
          "base_uri": "https://localhost:8080/",
          "height": 67
        }
      },
      "source": [
        "topCountries = [c[0] for c in deathsC[:3]]\n",
        "#rankProvinces(topCountries, data, 'Deaths')\n",
        "#topCountries\n",
        "\n",
        "topProvince(df,topCountries,'Deaths')"
      ],
      "execution_count": 0,
      "outputs": [
        {
          "output_type": "stream",
          "text": [
            "Mainland China Hubei 3122.0\n",
            "France France 148.0\n",
            "US Washington 55.0\n"
          ],
          "name": "stdout"
        }
      ]
    },
    {
      "cell_type": "markdown",
      "metadata": {
        "id": "scGpq2hlj3HY",
        "colab_type": "text"
      },
      "source": [
        "#the most affected provinces/states in top 3 countries with most number of Recovery."
      ]
    },
    {
      "cell_type": "code",
      "metadata": {
        "id": "JjhMM6MljeTX",
        "colab_type": "code",
        "outputId": "757810b5-29dd-4dc8-cf0b-9553889ba0a8",
        "colab": {
          "base_uri": "https://localhost:8080/",
          "height": 67
        }
      },
      "source": [
        "topCountries = [c[0] for c in RecoveredC[:3]]\n",
        "#rankProvinces(topCountries, data, 'Deaths')\n",
        "#topCountries\n",
        "\n",
        "topProvince(df,topCountries,'Recovered')"
      ],
      "execution_count": 0,
      "outputs": [
        {
          "output_type": "stream",
          "text": [
            "Mainland China Hubei 56927.0\n",
            "Others Diamond Princess cruise ship 325.0\n",
            "US US 106.0\n"
          ],
          "name": "stdout"
        }
      ]
    },
    {
      "cell_type": "markdown",
      "metadata": {
        "id": "-aO-3o7xkVdN",
        "colab_type": "text"
      },
      "source": [
        "#the most affected provinces/states in top 3 countries with most number of Recovery."
      ]
    },
    {
      "cell_type": "code",
      "metadata": {
        "id": "ocbTq-L4kU94",
        "colab_type": "code",
        "outputId": "a5a9f83e-d53f-45fc-e7f6-ccde7689327e",
        "colab": {
          "base_uri": "https://localhost:8080/",
          "height": 67
        }
      },
      "source": [
        "topCountries = [c[0] for c in ConfirmedC[:3]]\n",
        "#rankProvinces(topCountries, data, 'Deaths')\n",
        "#topCountries\n",
        "\n",
        "topProvince(df,topCountries,'Confirmed')"
      ],
      "execution_count": 0,
      "outputs": [
        {
          "output_type": "stream",
          "text": [
            "Mainland China Hubei 67800.0\n",
            "France France 9043.0\n",
            "US New York 2495.0\n"
          ],
          "name": "stdout"
        }
      ]
    },
    {
      "cell_type": "code",
      "metadata": {
        "id": "mTXsbBMT8iHy",
        "colab_type": "code",
        "colab": {}
      },
      "source": [
        "df=df.get_group().groupby('ObservationDate')"
      ],
      "execution_count": 0,
      "outputs": []
    },
    {
      "cell_type": "markdown",
      "metadata": {
        "id": "DtHKBG2A47E6",
        "colab_type": "text"
      },
      "source": [
        "#bar graph for top 10 states in China and US in accordance to the death cases, and recovered cases."
      ]
    },
    {
      "cell_type": "markdown",
      "metadata": {
        "id": "ggnIHR_K5ByE",
        "colab_type": "text"
      },
      "source": [
        "#For Death"
      ]
    },
    {
      "cell_type": "code",
      "metadata": {
        "id": "P2Itdr8BGD2o",
        "colab_type": "code",
        "outputId": "adf0b176-76c9-47d8-c4d6-6de4d8206ae2",
        "colab": {
          "base_uri": "https://localhost:8080/",
          "height": 733
        }
      },
      "source": [
        "chin=Prov('Mainland China',df1,'Deaths')\n",
        "print('for China')\n",
        "plot(chin)\n",
        " \n",
        "\n",
        "US=Prov('US',df1,'Deaths')\n",
        "print('For US')\n",
        "plot(US)\n",
        "\n",
        "# #chin=dict(chin)\n",
        "\n",
        "# import matplotlib.pyplot as plt;\n",
        "# chin=dict(chin)\n",
        "# plt.plot(list(chin.keys()), list(chin.values()), marker='', color='red', linewidth=2,label=\"death cases\")\n",
        "# plt.xticks(rotation=90)\n",
        "\n",
        "\n",
        "# plt.show()\n",
        "\n",
        "\n",
        "\n",
        "\n",
        "\n",
        "\n",
        "\n",
        "\n"
      ],
      "execution_count": 0,
      "outputs": [
        {
          "output_type": "stream",
          "text": [
            "for China\n"
          ],
          "name": "stdout"
        },
        {
          "output_type": "display_data",
          "data": {
            "image/png": "[encoded data removed]",
            "text/plain": [
              "<Figure size 432x288 with 1 Axes>"
            ]
          },
          "metadata": {
            "tags": []
          }
        },
        {
          "output_type": "stream",
          "text": [
            "For US\n"
          ],
          "name": "stdout"
        },
        {
          "output_type": "display_data",
          "data": {
            "image/png": "[encoded data removed]",
            "text/plain": [
              "<Figure size 432x288 with 1 Axes>"
            ]
          },
          "metadata": {
            "tags": []
          }
        }
      ]
    },
    {
      "cell_type": "markdown",
      "metadata": {
        "id": "z-IicW0g5FvN",
        "colab_type": "text"
      },
      "source": [
        "#For Recovery"
      ]
    },
    {
      "cell_type": "code",
      "metadata": {
        "id": "zMxUKyvLcrTV",
        "colab_type": "code",
        "outputId": "22a91132-d404-46e2-8f3d-530ead0ebf19",
        "colab": {
          "base_uri": "https://localhost:8080/",
          "height": 762
        }
      },
      "source": [
        "china=Prov('Mainland China',df1,'Recovered')\n",
        "print('for China')\n",
        "plot(china)\n",
        " \n",
        "\n",
        "USR=Prov('US',df1,'Recovered')\n",
        "print('For US')\n",
        "plot(USR)"
      ],
      "execution_count": 0,
      "outputs": [
        {
          "output_type": "stream",
          "text": [
            "for China\n"
          ],
          "name": "stdout"
        },
        {
          "output_type": "display_data",
          "data": {
            "image/png": "[encoded data removed]",
            "text/plain": [
              "<Figure size 432x288 with 1 Axes>"
            ]
          },
          "metadata": {
            "tags": []
          }
        },
        {
          "output_type": "stream",
          "text": [
            "For US\n"
          ],
          "name": "stdout"
        },
        {
          "output_type": "display_data",
          "data": {
            "image/png": "[encoded data removed]",
            "text/plain": [
              "<Figure size 432x288 with 1 Axes>"
            ]
          },
          "metadata": {
            "tags": []
          }
        }
      ]
    },
    {
      "cell_type": "markdown",
      "metadata": {
        "id": "Rb8OL5ddRx-y",
        "colab_type": "text"
      },
      "source": [
        "#### Question # 03\n",
        "\n",
        "Since we have dates in the data, let's quantify out how the virus has spread over time and which areas are most affected by the virus. This will help us figure out if the situation is getting any better over time or not.\n",
        "\n",
        "1. Plot the confirmed, deaths and recovered cases as line graphs with dates for US, Iran and China each.\n",
        "2. Looking at the plots, explain which country has seen a surge in confirmed, and death cases?\n",
        "3. Work out the death rate due to COVID-19 in these three countries.\n",
        "4. By examining the plots, which country has been able to efficiently and swiftly recover the confirmed cases? Work out the recovery rate for each country (US, Iran and China) and then answer the question?"
      ]
    },
    {
      "cell_type": "markdown",
      "metadata": {
        "id": "rpMhFJSY9C25",
        "colab_type": "text"
      },
      "source": [
        "we extract the date wise "
      ]
    },
    {
      "cell_type": "code",
      "metadata": {
        "id": "jk5LZCfp9qJR",
        "colab_type": "code",
        "colab": {}
      },
      "source": [
        "def graphCases(dataframe, country, feature):\n",
        "  df=dataframe.get_group(country).groupby('ObservationDate')\n",
        "  #dateGrouped = data.get_group(country).groupby('ObservationDate')\n",
        "\n",
        "  dates=df.groups.keys()\n",
        "  values = dict()\n",
        "  for date in dates:\n",
        "    values[date] = df.get_group(date)[feature].sum()\n",
        "  return values\n"
      ],
      "execution_count": 0,
      "outputs": []
    },
    {
      "cell_type": "markdown",
      "metadata": {
        "id": "XzQCKDXRwXQC",
        "colab_type": "text"
      },
      "source": [
        "#plotting confirmed\n"
      ]
    },
    {
      "cell_type": "code",
      "metadata": {
        "id": "WhIeYGEkwZ5Q",
        "colab_type": "code",
        "outputId": "eacf17e7-af5c-4e21-aa7d-fff95fa821f3",
        "colab": {
          "base_uri": "https://localhost:8080/",
          "height": 818
        }
      },
      "source": [
        "#df2=df2.groupby('Country/Region')\n",
        "ChinaC = graphCases(df2, 'Mainland China', 'Confirmed')\n",
        "USC = graphCases(df2, 'US', 'Confirmed')\n",
        "IranC = graphCases(df2, 'Iran', 'Confirmed')\n",
        "\n",
        "\n",
        "import matplotlib.pyplot as plt\n",
        "fig= plt.figure(figsize=(16,13))\n",
        "plt.xticks(rotation=90)\n",
        "plt.plot(list(USC), list(USC.values()),  color='red')\n",
        "plt.plot(list(ChinaC), list(ChinaC.values()), color='blue')\n",
        "\n",
        "plt.plot(list(IranC), list(IranC.values()), color='green')\n",
        "\n",
        "plt.legend()\n",
        "plt.show()\n",
        "\n"
      ],
      "execution_count": 0,
      "outputs": [
        {
          "output_type": "stream",
          "text": [
            "No handles with labels found to put in legend.\n"
          ],
          "name": "stderr"
        },
        {
          "output_type": "display_data",
          "data": {
            "image/png": "[encoded data removed]",
            "text/plain": [
              "<Figure size 1152x936 with 1 Axes>"
            ]
          },
          "metadata": {
            "tags": []
          }
        }
      ]
    },
    {
      "cell_type": "markdown",
      "metadata": {
        "id": "h-4lZm5ol8TC",
        "colab_type": "text"
      },
      "source": [
        "recovered cases"
      ]
    },
    {
      "cell_type": "code",
      "metadata": {
        "id": "ryZmOQFyl3Ks",
        "colab_type": "code",
        "outputId": "fd515c9f-7a22-455f-e24d-5d3e6bfda393",
        "colab": {
          "base_uri": "https://localhost:8080/",
          "height": 802
        }
      },
      "source": [
        "ChinaR = graphCases(df2, 'Mainland China', 'Recovered')\n",
        "USR = graphCases(df2, 'US', 'Recovered')\n",
        "IranR = graphCases(df2, 'Iran', 'Recovered')\n",
        "\n",
        "\n",
        "import matplotlib.pyplot as plt\n",
        "\n",
        "fig= plt.figure(figsize=(16,13))\n",
        "plt.plot(list(USR), list(USR.values()),  color='red', label='US')\n",
        "plt.plot(list(ChinaR), list(ChinaR.values()), color='blue',label='China')\n",
        "plt.xticks(rotation=90)\n",
        "\n",
        "plt.plot(list(IranR), list(IranR.values()), color='green',label='Iran')\n",
        "\n",
        "plt.legend()\n",
        "plt.show()"
      ],
      "execution_count": 0,
      "outputs": [
        {
          "output_type": "display_data",
          "data": {
            "image/png": "[encoded data removed]",
            "text/plain": [
              "<Figure size 1152x936 with 1 Axes>"
            ]
          },
          "metadata": {
            "tags": []
          }
        }
      ]
    },
    {
      "cell_type": "markdown",
      "metadata": {
        "id": "ilp1tCnFmx2s",
        "colab_type": "text"
      },
      "source": [
        "Deaths"
      ]
    },
    {
      "cell_type": "code",
      "metadata": {
        "id": "EPkCN0dimw9F",
        "colab_type": "code",
        "outputId": "4cbb70bc-e9b7-4b90-b70c-b6af54bf07b1",
        "colab": {
          "base_uri": "https://localhost:8080/",
          "height": 802
        }
      },
      "source": [
        "ChinaD = graphCases(df2, 'Mainland China', 'Deaths')\n",
        "USD = graphCases(df2, 'US', 'Deaths')\n",
        "IranD = graphCases(df2, 'Iran', 'Deaths')\n",
        "\n",
        "\n",
        "import matplotlib.pyplot as plt\n",
        "fig= plt.figure(figsize=(16,13))\n",
        "plt.plot(list(USD), list(USD.values()),  color='red', label='US')\n",
        "plt.plot(list(ChinaD), list(ChinaD.values()), color='blue',label='China')\n",
        "\n",
        "plt.plot(list(IranD), list(IranD.values()), color='green',label='Iran')\n",
        "plt.xticks(rotation=90)\n",
        "\n",
        "plt.legend()\n",
        "plt.show()"
      ],
      "execution_count": 0,
      "outputs": [
        {
          "output_type": "display_data",
          "data": {
            "image/png": "[encoded data removed]",
            "text/plain": [
              "<Figure size 1152x936 with 1 Axes>"
            ]
          },
          "metadata": {
            "tags": []
          }
        }
      ]
    },
    {
      "cell_type": "markdown",
      "metadata": {
        "id": "cQrcCwU3nubp",
        "colab_type": "text"
      },
      "source": [
        "#china has seen a surge in confirmed, while iran has seen it in death cases"
      ]
    },
    {
      "cell_type": "markdown",
      "metadata": {
        "id": "I_phtJCfoAhE",
        "colab_type": "text"
      },
      "source": [
        "**bold Work out the death rate due to COVID-19 in these three countries**\n",
        "# no of deaths can be interpreted in various days.here I will do with total deaths/ no of days"
      ]
    },
    {
      "cell_type": "code",
      "metadata": {
        "id": "7qjrzxKAgaWi",
        "colab_type": "code",
        "outputId": "9e61bbc8-ee4a-4065-fbf3-91eb83b37e1b",
        "colab": {
          "base_uri": "https://localhost:8080/",
          "height": 1000
        }
      },
      "source": [
        "xf=df2.get_group('Mainland China').groupby('ObservationDate')\n",
        "#xf.head()\n",
        "xf['ObservationDate'].max()"
      ],
      "execution_count": 0,
      "outputs": [
        {
          "output_type": "execute_result",
          "data": {
            "text/plain": [
              "ObservationDate\n",
              "01/22/2020    01/22/2020\n",
              "01/23/2020    01/23/2020\n",
              "01/24/2020    01/24/2020\n",
              "01/25/2020    01/25/2020\n",
              "01/26/2020    01/26/2020\n",
              "01/27/2020    01/27/2020\n",
              "01/28/2020    01/28/2020\n",
              "01/29/2020    01/29/2020\n",
              "01/30/2020    01/30/2020\n",
              "01/31/2020    01/31/2020\n",
              "02/01/2020    02/01/2020\n",
              "02/02/2020    02/02/2020\n",
              "02/03/2020    02/03/2020\n",
              "02/04/2020    02/04/2020\n",
              "02/05/2020    02/05/2020\n",
              "02/06/2020    02/06/2020\n",
              "02/07/2020    02/07/2020\n",
              "02/08/2020    02/08/2020\n",
              "02/09/2020    02/09/2020\n",
              "02/10/2020    02/10/2020\n",
              "02/11/2020    02/11/2020\n",
              "02/12/2020    02/12/2020\n",
              "02/13/2020    02/13/2020\n",
              "02/14/2020    02/14/2020\n",
              "02/15/2020    02/15/2020\n",
              "02/16/2020    02/16/2020\n",
              "02/17/2020    02/17/2020\n",
              "02/18/2020    02/18/2020\n",
              "02/19/2020    02/19/2020\n",
              "02/20/2020    02/20/2020\n",
              "02/21/2020    02/21/2020\n",
              "02/22/2020    02/22/2020\n",
              "02/23/2020    02/23/2020\n",
              "02/24/2020    02/24/2020\n",
              "02/25/2020    02/25/2020\n",
              "02/26/2020    02/26/2020\n",
              "02/27/2020    02/27/2020\n",
              "02/28/2020    02/28/2020\n",
              "02/29/2020    02/29/2020\n",
              "03/01/2020    03/01/2020\n",
              "03/02/2020    03/02/2020\n",
              "03/03/2020    03/03/2020\n",
              "03/04/2020    03/04/2020\n",
              "03/05/2020    03/05/2020\n",
              "03/06/2020    03/06/2020\n",
              "03/07/2020    03/07/2020\n",
              "03/08/2020    03/08/2020\n",
              "03/09/2020    03/09/2020\n",
              "03/10/2020    03/10/2020\n",
              "03/11/2020    03/11/2020\n",
              "03/12/2020    03/12/2020\n",
              "03/13/2020    03/13/2020\n",
              "03/14/2020    03/14/2020\n",
              "03/15/2020    03/15/2020\n",
              "03/16/2020    03/16/2020\n",
              "03/17/2020    03/17/2020\n",
              "03/18/2020    03/18/2020\n",
              "Name: ObservationDate, dtype: object"
            ]
          },
          "metadata": {
            "tags": []
          },
          "execution_count": 23
        }
      ]
    },
    {
      "cell_type": "code",
      "metadata": {
        "id": "iz1cN-s6n67Q",
        "colab_type": "code",
        "colab": {}
      },
      "source": [
        "def Rate(dataframe, country, parameter):\n",
        "  countrySum=dataframe.get_group(country).groupby('ObservationDate')\n",
        "  totaldays=len(countrySum.groups.keys())\n",
        "  latestdays=dataframe.get_group(country)['ObservationDate'].max()\n",
        "  total=countrySum.get_group(latestdays)[parameter].sum()\n",
        "  \n",
        "  rate= total/totaldays\n",
        "  print(\"Rate of\",country,\"is\", rate)"
      ],
      "execution_count": 0,
      "outputs": []
    },
    {
      "cell_type": "code",
      "metadata": {
        "id": "uQsCZ2yyf4LU",
        "colab_type": "code",
        "outputId": "82770312-65d4-4f04-e1a9-6652eae5b03d",
        "colab": {
          "base_uri": "https://localhost:8080/",
          "height": 84
        }
      },
      "source": [
        "print(\"Death RATES\")\n",
        "Rate(df2,\"Mainland China\",'Deaths')\n",
        "Rate(df2,\"Iran\",'Deaths')\n",
        "Rate(df2,\"US\",'Deaths')"
      ],
      "execution_count": 0,
      "outputs": [
        {
          "output_type": "stream",
          "text": [
            "Death RATES\n",
            "Death Rate of Mainland China is 56.78947368421053\n",
            "Death Rate of Iran is 39.13793103448276\n",
            "Death Rate of US is 2.0701754385964914\n"
          ],
          "name": "stdout"
        }
      ]
    },
    {
      "cell_type": "code",
      "metadata": {
        "id": "Ki9vnW84LEIa",
        "colab_type": "code",
        "outputId": "ae29c639-2bb6-4d71-e519-494e3670e217",
        "colab": {
          "base_uri": "https://localhost:8080/",
          "height": 84
        }
      },
      "source": [
        "print(\"Recovery RATES\")\n",
        "Rate(df2,\"Mainland China\",'Recovered')\n",
        "Rate(df2,\"Iran\",'Recovered')\n",
        "Rate(df2,\"US\",'Recovered')"
      ],
      "execution_count": 0,
      "outputs": [
        {
          "output_type": "stream",
          "text": [
            "Recovery RATES\n",
            "Rate of Mainland China is 1221.982456140351\n",
            "Rate of Iran is 185.82758620689654\n",
            "Rate of US is 1.8596491228070176\n"
          ],
          "name": "stdout"
        }
      ]
    },
    {
      "cell_type": "markdown",
      "metadata": {
        "id": "BcRc4_90Rx-_",
        "colab_type": "text"
      },
      "source": [
        "#### Question # 04\n",
        "\n",
        "In this question, we will look at another data file namely `time_series_covid_19_deaths.csv`.\n",
        "In this file, time series data of death occurred due to COVID-19 in countries/states/provinces is given.\n",
        "\n",
        "1. Read the file and examine the features.\n",
        "2. Clean the dataset by dropping missing rows with data points.\n",
        "3. Since you already have information for States/Provinces in US, and China with most deaths, you can use those States/Provinces and plot the number of deaths against each of the top 5 states in both China and US."
      ]
    },
    {
      "cell_type": "code",
      "metadata": {
        "id": "UD8m3QWzRx_B",
        "colab_type": "code",
        "outputId": "5143f0b0-d475-40a4-dffe-c05061ebe5a7",
        "colab": {
          "base_uri": "https://localhost:8080/",
          "height": 185
        }
      },
      "source": [
        "\n",
        "\n",
        "dataset = pd.read_csv('time_series_covid_19_deaths.csv')\n",
        "dataset.columns"
      ],
      "execution_count": 0,
      "outputs": [
        {
          "output_type": "execute_result",
          "data": {
            "text/plain": [
              "Index(['Province/State', 'Country/Region', 'Lat', 'Long', '1/22/20', '1/23/20',\n",
              "       '1/24/20', '1/25/20', '1/26/20', '1/27/20', '1/28/20', '1/29/20',\n",
              "       '1/30/20', '1/31/20', '2/1/20', '2/2/20', '2/3/20', '2/4/20', '2/5/20',\n",
              "       '2/6/20', '2/7/20', '2/8/20', '2/9/20', '2/10/20', '2/11/20', '2/12/20',\n",
              "       '2/13/20', '2/14/20', '2/15/20', '2/16/20', '2/17/20', '2/18/20',\n",
              "       '2/19/20', '2/20/20', '2/21/20', '2/22/20', '2/23/20', '2/24/20',\n",
              "       '2/25/20', '2/26/20', '2/27/20', '2/28/20', '2/29/20', '3/1/20',\n",
              "       '3/2/20', '3/3/20', '3/4/20', '3/5/20', '3/6/20', '3/7/20', '3/8/20',\n",
              "       '3/9/20', '3/10/20', '3/11/20', '3/12/20', '3/13/20', '3/14/20'],\n",
              "      dtype='object')"
            ]
          },
          "metadata": {
            "tags": []
          },
          "execution_count": 38
        }
      ]
    },
    {
      "cell_type": "code",
      "metadata": {
        "id": "Bbf8nt-pMxf3",
        "colab_type": "code",
        "outputId": "e3a22989-e77f-4975-d091-9fccb7c7e8f7",
        "colab": {
          "base_uri": "https://localhost:8080/",
          "height": 506
        }
      },
      "source": [
        "dataset\n"
      ],
      "execution_count": 0,
      "outputs": [
        {
          "output_type": "execute_result",
          "data": {
            "text/html": [
              "<div>\n",
              "<style scoped>\n",
              "    .dataframe tbody tr th:only-of-type {\n",
              "        vertical-align: middle;\n",
              "    }\n",
              "\n",
              "    .dataframe tbody tr th {\n",
              "        vertical-align: top;\n",
              "    }\n",
              "\n",
              "    .dataframe thead th {\n",
              "        text-align: right;\n",
              "    }\n",
              "</style>\n",
              "<table border=\"1\" class=\"dataframe\">\n",
              "  <thead>\n",
              "    <tr style=\"text-align: right;\">\n",
              "      <th></th>\n",
              "      <th>Province/State</th>\n",
              "      <th>Country/Region</th>\n",
              "      <th>Lat</th>\n",
              "      <th>Long</th>\n",
              "      <th>1/22/20</th>\n",
              "      <th>1/23/20</th>\n",
              "      <th>1/24/20</th>\n",
              "      <th>1/25/20</th>\n",
              "      <th>1/26/20</th>\n",
              "      <th>1/27/20</th>\n",
              "      <th>1/28/20</th>\n",
              "      <th>1/29/20</th>\n",
              "      <th>1/30/20</th>\n",
              "      <th>1/31/20</th>\n",
              "      <th>2/1/20</th>\n",
              "      <th>2/2/20</th>\n",
              "      <th>2/3/20</th>\n",
              "      <th>2/4/20</th>\n",
              "      <th>2/5/20</th>\n",
              "      <th>2/6/20</th>\n",
              "      <th>2/7/20</th>\n",
              "      <th>2/8/20</th>\n",
              "      <th>2/9/20</th>\n",
              "      <th>2/10/20</th>\n",
              "      <th>2/11/20</th>\n",
              "      <th>2/12/20</th>\n",
              "      <th>2/13/20</th>\n",
              "      <th>2/14/20</th>\n",
              "      <th>2/15/20</th>\n",
              "      <th>2/16/20</th>\n",
              "      <th>2/17/20</th>\n",
              "      <th>2/18/20</th>\n",
              "      <th>2/19/20</th>\n",
              "      <th>2/20/20</th>\n",
              "      <th>2/21/20</th>\n",
              "      <th>2/22/20</th>\n",
              "      <th>2/23/20</th>\n",
              "      <th>2/24/20</th>\n",
              "      <th>2/25/20</th>\n",
              "      <th>2/26/20</th>\n",
              "      <th>2/27/20</th>\n",
              "      <th>2/28/20</th>\n",
              "      <th>2/29/20</th>\n",
              "      <th>3/1/20</th>\n",
              "      <th>3/2/20</th>\n",
              "      <th>3/3/20</th>\n",
              "      <th>3/4/20</th>\n",
              "      <th>3/5/20</th>\n",
              "      <th>3/6/20</th>\n",
              "      <th>3/7/20</th>\n",
              "      <th>3/8/20</th>\n",
              "      <th>3/9/20</th>\n",
              "      <th>3/10/20</th>\n",
              "      <th>3/11/20</th>\n",
              "      <th>3/12/20</th>\n",
              "      <th>3/13/20</th>\n",
              "      <th>3/14/20</th>\n",
              "    </tr>\n",
              "  </thead>\n",
              "  <tbody>\n",
              "    <tr>\n",
              "      <th>0</th>\n",
              "      <td>NaN</td>\n",
              "      <td>Thailand</td>\n",
              "      <td>15.0000</td>\n",
              "      <td>101.0000</td>\n",
              "      <td>0</td>\n",
              "      <td>0</td>\n",
              "      <td>0</td>\n",
              "      <td>0</td>\n",
              "      <td>0</td>\n",
              "      <td>0</td>\n",
              "      <td>0</td>\n",
              "      <td>0</td>\n",
              "      <td>0</td>\n",
              "      <td>0</td>\n",
              "      <td>0</td>\n",
              "      <td>0</td>\n",
              "      <td>0</td>\n",
              "      <td>0</td>\n",
              "      <td>0</td>\n",
              "      <td>0</td>\n",
              "      <td>0</td>\n",
              "      <td>0</td>\n",
              "      <td>0</td>\n",
              "      <td>0</td>\n",
              "      <td>0</td>\n",
              "      <td>0</td>\n",
              "      <td>0</td>\n",
              "      <td>0</td>\n",
              "      <td>0</td>\n",
              "      <td>0</td>\n",
              "      <td>0</td>\n",
              "      <td>0</td>\n",
              "      <td>0</td>\n",
              "      <td>0</td>\n",
              "      <td>0</td>\n",
              "      <td>0</td>\n",
              "      <td>0</td>\n",
              "      <td>0</td>\n",
              "      <td>0</td>\n",
              "      <td>0</td>\n",
              "      <td>0</td>\n",
              "      <td>0</td>\n",
              "      <td>0</td>\n",
              "      <td>1</td>\n",
              "      <td>1</td>\n",
              "      <td>1</td>\n",
              "      <td>1</td>\n",
              "      <td>1</td>\n",
              "      <td>1</td>\n",
              "      <td>1</td>\n",
              "      <td>1</td>\n",
              "      <td>1</td>\n",
              "      <td>1</td>\n",
              "      <td>1</td>\n",
              "      <td>1</td>\n",
              "      <td>1</td>\n",
              "      <td>1</td>\n",
              "    </tr>\n",
              "    <tr>\n",
              "      <th>1</th>\n",
              "      <td>NaN</td>\n",
              "      <td>Japan</td>\n",
              "      <td>36.0000</td>\n",
              "      <td>138.0000</td>\n",
              "      <td>0</td>\n",
              "      <td>0</td>\n",
              "      <td>0</td>\n",
              "      <td>0</td>\n",
              "      <td>0</td>\n",
              "      <td>0</td>\n",
              "      <td>0</td>\n",
              "      <td>0</td>\n",
              "      <td>0</td>\n",
              "      <td>0</td>\n",
              "      <td>0</td>\n",
              "      <td>0</td>\n",
              "      <td>0</td>\n",
              "      <td>0</td>\n",
              "      <td>0</td>\n",
              "      <td>0</td>\n",
              "      <td>0</td>\n",
              "      <td>0</td>\n",
              "      <td>0</td>\n",
              "      <td>0</td>\n",
              "      <td>0</td>\n",
              "      <td>0</td>\n",
              "      <td>1</td>\n",
              "      <td>1</td>\n",
              "      <td>1</td>\n",
              "      <td>1</td>\n",
              "      <td>1</td>\n",
              "      <td>1</td>\n",
              "      <td>1</td>\n",
              "      <td>1</td>\n",
              "      <td>1</td>\n",
              "      <td>1</td>\n",
              "      <td>1</td>\n",
              "      <td>1</td>\n",
              "      <td>1</td>\n",
              "      <td>2</td>\n",
              "      <td>4</td>\n",
              "      <td>4</td>\n",
              "      <td>5</td>\n",
              "      <td>6</td>\n",
              "      <td>6</td>\n",
              "      <td>6</td>\n",
              "      <td>6</td>\n",
              "      <td>6</td>\n",
              "      <td>6</td>\n",
              "      <td>6</td>\n",
              "      <td>6</td>\n",
              "      <td>10</td>\n",
              "      <td>10</td>\n",
              "      <td>15</td>\n",
              "      <td>16</td>\n",
              "      <td>19</td>\n",
              "      <td>22</td>\n",
              "    </tr>\n",
              "    <tr>\n",
              "      <th>2</th>\n",
              "      <td>NaN</td>\n",
              "      <td>Singapore</td>\n",
              "      <td>1.2833</td>\n",
              "      <td>103.8333</td>\n",
              "      <td>0</td>\n",
              "      <td>0</td>\n",
              "      <td>0</td>\n",
              "      <td>0</td>\n",
              "      <td>0</td>\n",
              "      <td>0</td>\n",
              "      <td>0</td>\n",
              "      <td>0</td>\n",
              "      <td>0</td>\n",
              "      <td>0</td>\n",
              "      <td>0</td>\n",
              "      <td>0</td>\n",
              "      <td>0</td>\n",
              "      <td>0</td>\n",
              "      <td>0</td>\n",
              "      <td>0</td>\n",
              "      <td>0</td>\n",
              "      <td>0</td>\n",
              "      <td>0</td>\n",
              "      <td>0</td>\n",
              "      <td>0</td>\n",
              "      <td>0</td>\n",
              "      <td>0</td>\n",
              "      <td>0</td>\n",
              "      <td>0</td>\n",
              "      <td>0</td>\n",
              "      <td>0</td>\n",
              "      <td>0</td>\n",
              "      <td>0</td>\n",
              "      <td>0</td>\n",
              "      <td>0</td>\n",
              "      <td>0</td>\n",
              "      <td>0</td>\n",
              "      <td>0</td>\n",
              "      <td>0</td>\n",
              "      <td>0</td>\n",
              "      <td>0</td>\n",
              "      <td>0</td>\n",
              "      <td>0</td>\n",
              "      <td>0</td>\n",
              "      <td>0</td>\n",
              "      <td>0</td>\n",
              "      <td>0</td>\n",
              "      <td>0</td>\n",
              "      <td>0</td>\n",
              "      <td>0</td>\n",
              "      <td>0</td>\n",
              "      <td>0</td>\n",
              "      <td>0</td>\n",
              "      <td>0</td>\n",
              "      <td>0</td>\n",
              "      <td>0</td>\n",
              "      <td>0</td>\n",
              "    </tr>\n",
              "    <tr>\n",
              "      <th>3</th>\n",
              "      <td>NaN</td>\n",
              "      <td>Nepal</td>\n",
              "      <td>28.1667</td>\n",
              "      <td>84.2500</td>\n",
              "      <td>0</td>\n",
              "      <td>0</td>\n",
              "      <td>0</td>\n",
              "      <td>0</td>\n",
              "      <td>0</td>\n",
              "      <td>0</td>\n",
              "      <td>0</td>\n",
              "      <td>0</td>\n",
              "      <td>0</td>\n",
              "      <td>0</td>\n",
              "      <td>0</td>\n",
              "      <td>0</td>\n",
              "      <td>0</td>\n",
              "      <td>0</td>\n",
              "      <td>0</td>\n",
              "      <td>0</td>\n",
              "      <td>0</td>\n",
              "      <td>0</td>\n",
              "      <td>0</td>\n",
              "      <td>0</td>\n",
              "      <td>0</td>\n",
              "      <td>0</td>\n",
              "      <td>0</td>\n",
              "      <td>0</td>\n",
              "      <td>0</td>\n",
              "      <td>0</td>\n",
              "      <td>0</td>\n",
              "      <td>0</td>\n",
              "      <td>0</td>\n",
              "      <td>0</td>\n",
              "      <td>0</td>\n",
              "      <td>0</td>\n",
              "      <td>0</td>\n",
              "      <td>0</td>\n",
              "      <td>0</td>\n",
              "      <td>0</td>\n",
              "      <td>0</td>\n",
              "      <td>0</td>\n",
              "      <td>0</td>\n",
              "      <td>0</td>\n",
              "      <td>0</td>\n",
              "      <td>0</td>\n",
              "      <td>0</td>\n",
              "      <td>0</td>\n",
              "      <td>0</td>\n",
              "      <td>0</td>\n",
              "      <td>0</td>\n",
              "      <td>0</td>\n",
              "      <td>0</td>\n",
              "      <td>0</td>\n",
              "      <td>0</td>\n",
              "      <td>0</td>\n",
              "      <td>0</td>\n",
              "    </tr>\n",
              "    <tr>\n",
              "      <th>4</th>\n",
              "      <td>NaN</td>\n",
              "      <td>Malaysia</td>\n",
              "      <td>2.5000</td>\n",
              "      <td>112.5000</td>\n",
              "      <td>0</td>\n",
              "      <td>0</td>\n",
              "      <td>0</td>\n",
              "      <td>0</td>\n",
              "      <td>0</td>\n",
              "      <td>0</td>\n",
              "      <td>0</td>\n",
              "      <td>0</td>\n",
              "      <td>0</td>\n",
              "      <td>0</td>\n",
              "      <td>0</td>\n",
              "      <td>0</td>\n",
              "      <td>0</td>\n",
              "      <td>0</td>\n",
              "      <td>0</td>\n",
              "      <td>0</td>\n",
              "      <td>0</td>\n",
              "      <td>0</td>\n",
              "      <td>0</td>\n",
              "      <td>0</td>\n",
              "      <td>0</td>\n",
              "      <td>0</td>\n",
              "      <td>0</td>\n",
              "      <td>0</td>\n",
              "      <td>0</td>\n",
              "      <td>0</td>\n",
              "      <td>0</td>\n",
              "      <td>0</td>\n",
              "      <td>0</td>\n",
              "      <td>0</td>\n",
              "      <td>0</td>\n",
              "      <td>0</td>\n",
              "      <td>0</td>\n",
              "      <td>0</td>\n",
              "      <td>0</td>\n",
              "      <td>0</td>\n",
              "      <td>0</td>\n",
              "      <td>0</td>\n",
              "      <td>0</td>\n",
              "      <td>0</td>\n",
              "      <td>0</td>\n",
              "      <td>0</td>\n",
              "      <td>0</td>\n",
              "      <td>0</td>\n",
              "      <td>0</td>\n",
              "      <td>0</td>\n",
              "      <td>0</td>\n",
              "      <td>0</td>\n",
              "      <td>0</td>\n",
              "      <td>0</td>\n",
              "      <td>0</td>\n",
              "      <td>0</td>\n",
              "      <td>0</td>\n",
              "    </tr>\n",
              "    <tr>\n",
              "      <th>...</th>\n",
              "      <td>...</td>\n",
              "      <td>...</td>\n",
              "      <td>...</td>\n",
              "      <td>...</td>\n",
              "      <td>...</td>\n",
              "      <td>...</td>\n",
              "      <td>...</td>\n",
              "      <td>...</td>\n",
              "      <td>...</td>\n",
              "      <td>...</td>\n",
              "      <td>...</td>\n",
              "      <td>...</td>\n",
              "      <td>...</td>\n",
              "      <td>...</td>\n",
              "      <td>...</td>\n",
              "      <td>...</td>\n",
              "      <td>...</td>\n",
              "      <td>...</td>\n",
              "      <td>...</td>\n",
              "      <td>...</td>\n",
              "      <td>...</td>\n",
              "      <td>...</td>\n",
              "      <td>...</td>\n",
              "      <td>...</td>\n",
              "      <td>...</td>\n",
              "      <td>...</td>\n",
              "      <td>...</td>\n",
              "      <td>...</td>\n",
              "      <td>...</td>\n",
              "      <td>...</td>\n",
              "      <td>...</td>\n",
              "      <td>...</td>\n",
              "      <td>...</td>\n",
              "      <td>...</td>\n",
              "      <td>...</td>\n",
              "      <td>...</td>\n",
              "      <td>...</td>\n",
              "      <td>...</td>\n",
              "      <td>...</td>\n",
              "      <td>...</td>\n",
              "      <td>...</td>\n",
              "      <td>...</td>\n",
              "      <td>...</td>\n",
              "      <td>...</td>\n",
              "      <td>...</td>\n",
              "      <td>...</td>\n",
              "      <td>...</td>\n",
              "      <td>...</td>\n",
              "      <td>...</td>\n",
              "      <td>...</td>\n",
              "      <td>...</td>\n",
              "      <td>...</td>\n",
              "      <td>...</td>\n",
              "      <td>...</td>\n",
              "      <td>...</td>\n",
              "      <td>...</td>\n",
              "      <td>...</td>\n",
              "    </tr>\n",
              "    <tr>\n",
              "      <th>437</th>\n",
              "      <td>NaN</td>\n",
              "      <td>Saint Lucia</td>\n",
              "      <td>13.9094</td>\n",
              "      <td>-60.9789</td>\n",
              "      <td>0</td>\n",
              "      <td>0</td>\n",
              "      <td>0</td>\n",
              "      <td>0</td>\n",
              "      <td>0</td>\n",
              "      <td>0</td>\n",
              "      <td>0</td>\n",
              "      <td>0</td>\n",
              "      <td>0</td>\n",
              "      <td>0</td>\n",
              "      <td>0</td>\n",
              "      <td>0</td>\n",
              "      <td>0</td>\n",
              "      <td>0</td>\n",
              "      <td>0</td>\n",
              "      <td>0</td>\n",
              "      <td>0</td>\n",
              "      <td>0</td>\n",
              "      <td>0</td>\n",
              "      <td>0</td>\n",
              "      <td>0</td>\n",
              "      <td>0</td>\n",
              "      <td>0</td>\n",
              "      <td>0</td>\n",
              "      <td>0</td>\n",
              "      <td>0</td>\n",
              "      <td>0</td>\n",
              "      <td>0</td>\n",
              "      <td>0</td>\n",
              "      <td>0</td>\n",
              "      <td>0</td>\n",
              "      <td>0</td>\n",
              "      <td>0</td>\n",
              "      <td>0</td>\n",
              "      <td>0</td>\n",
              "      <td>0</td>\n",
              "      <td>0</td>\n",
              "      <td>0</td>\n",
              "      <td>0</td>\n",
              "      <td>0</td>\n",
              "      <td>0</td>\n",
              "      <td>0</td>\n",
              "      <td>0</td>\n",
              "      <td>0</td>\n",
              "      <td>0</td>\n",
              "      <td>0</td>\n",
              "      <td>0</td>\n",
              "      <td>0</td>\n",
              "      <td>0</td>\n",
              "      <td>0</td>\n",
              "      <td>0</td>\n",
              "      <td>0</td>\n",
              "      <td>0</td>\n",
              "    </tr>\n",
              "    <tr>\n",
              "      <th>438</th>\n",
              "      <td>NaN</td>\n",
              "      <td>Saint Vincent and the Grenadines</td>\n",
              "      <td>12.9843</td>\n",
              "      <td>-61.2872</td>\n",
              "      <td>0</td>\n",
              "      <td>0</td>\n",
              "      <td>0</td>\n",
              "      <td>0</td>\n",
              "      <td>0</td>\n",
              "      <td>0</td>\n",
              "      <td>0</td>\n",
              "      <td>0</td>\n",
              "      <td>0</td>\n",
              "      <td>0</td>\n",
              "      <td>0</td>\n",
              "      <td>0</td>\n",
              "      <td>0</td>\n",
              "      <td>0</td>\n",
              "      <td>0</td>\n",
              "      <td>0</td>\n",
              "      <td>0</td>\n",
              "      <td>0</td>\n",
              "      <td>0</td>\n",
              "      <td>0</td>\n",
              "      <td>0</td>\n",
              "      <td>0</td>\n",
              "      <td>0</td>\n",
              "      <td>0</td>\n",
              "      <td>0</td>\n",
              "      <td>0</td>\n",
              "      <td>0</td>\n",
              "      <td>0</td>\n",
              "      <td>0</td>\n",
              "      <td>0</td>\n",
              "      <td>0</td>\n",
              "      <td>0</td>\n",
              "      <td>0</td>\n",
              "      <td>0</td>\n",
              "      <td>0</td>\n",
              "      <td>0</td>\n",
              "      <td>0</td>\n",
              "      <td>0</td>\n",
              "      <td>0</td>\n",
              "      <td>0</td>\n",
              "      <td>0</td>\n",
              "      <td>0</td>\n",
              "      <td>0</td>\n",
              "      <td>0</td>\n",
              "      <td>0</td>\n",
              "      <td>0</td>\n",
              "      <td>0</td>\n",
              "      <td>0</td>\n",
              "      <td>0</td>\n",
              "      <td>0</td>\n",
              "      <td>0</td>\n",
              "      <td>0</td>\n",
              "      <td>0</td>\n",
              "    </tr>\n",
              "    <tr>\n",
              "      <th>439</th>\n",
              "      <td>NaN</td>\n",
              "      <td>Suriname</td>\n",
              "      <td>3.9193</td>\n",
              "      <td>-56.0278</td>\n",
              "      <td>0</td>\n",
              "      <td>0</td>\n",
              "      <td>0</td>\n",
              "      <td>0</td>\n",
              "      <td>0</td>\n",
              "      <td>0</td>\n",
              "      <td>0</td>\n",
              "      <td>0</td>\n",
              "      <td>0</td>\n",
              "      <td>0</td>\n",
              "      <td>0</td>\n",
              "      <td>0</td>\n",
              "      <td>0</td>\n",
              "      <td>0</td>\n",
              "      <td>0</td>\n",
              "      <td>0</td>\n",
              "      <td>0</td>\n",
              "      <td>0</td>\n",
              "      <td>0</td>\n",
              "      <td>0</td>\n",
              "      <td>0</td>\n",
              "      <td>0</td>\n",
              "      <td>0</td>\n",
              "      <td>0</td>\n",
              "      <td>0</td>\n",
              "      <td>0</td>\n",
              "      <td>0</td>\n",
              "      <td>0</td>\n",
              "      <td>0</td>\n",
              "      <td>0</td>\n",
              "      <td>0</td>\n",
              "      <td>0</td>\n",
              "      <td>0</td>\n",
              "      <td>0</td>\n",
              "      <td>0</td>\n",
              "      <td>0</td>\n",
              "      <td>0</td>\n",
              "      <td>0</td>\n",
              "      <td>0</td>\n",
              "      <td>0</td>\n",
              "      <td>0</td>\n",
              "      <td>0</td>\n",
              "      <td>0</td>\n",
              "      <td>0</td>\n",
              "      <td>0</td>\n",
              "      <td>0</td>\n",
              "      <td>0</td>\n",
              "      <td>0</td>\n",
              "      <td>0</td>\n",
              "      <td>0</td>\n",
              "      <td>0</td>\n",
              "      <td>0</td>\n",
              "      <td>0</td>\n",
              "    </tr>\n",
              "    <tr>\n",
              "      <th>440</th>\n",
              "      <td>Virgin Islands, U.S.</td>\n",
              "      <td>US</td>\n",
              "      <td>18.3358</td>\n",
              "      <td>-64.8963</td>\n",
              "      <td>0</td>\n",
              "      <td>0</td>\n",
              "      <td>0</td>\n",
              "      <td>0</td>\n",
              "      <td>0</td>\n",
              "      <td>0</td>\n",
              "      <td>0</td>\n",
              "      <td>0</td>\n",
              "      <td>0</td>\n",
              "      <td>0</td>\n",
              "      <td>0</td>\n",
              "      <td>0</td>\n",
              "      <td>0</td>\n",
              "      <td>0</td>\n",
              "      <td>0</td>\n",
              "      <td>0</td>\n",
              "      <td>0</td>\n",
              "      <td>0</td>\n",
              "      <td>0</td>\n",
              "      <td>0</td>\n",
              "      <td>0</td>\n",
              "      <td>0</td>\n",
              "      <td>0</td>\n",
              "      <td>0</td>\n",
              "      <td>0</td>\n",
              "      <td>0</td>\n",
              "      <td>0</td>\n",
              "      <td>0</td>\n",
              "      <td>0</td>\n",
              "      <td>0</td>\n",
              "      <td>0</td>\n",
              "      <td>0</td>\n",
              "      <td>0</td>\n",
              "      <td>0</td>\n",
              "      <td>0</td>\n",
              "      <td>0</td>\n",
              "      <td>0</td>\n",
              "      <td>0</td>\n",
              "      <td>0</td>\n",
              "      <td>0</td>\n",
              "      <td>0</td>\n",
              "      <td>0</td>\n",
              "      <td>0</td>\n",
              "      <td>0</td>\n",
              "      <td>0</td>\n",
              "      <td>0</td>\n",
              "      <td>0</td>\n",
              "      <td>0</td>\n",
              "      <td>0</td>\n",
              "      <td>0</td>\n",
              "      <td>0</td>\n",
              "      <td>0</td>\n",
              "      <td>0</td>\n",
              "    </tr>\n",
              "    <tr>\n",
              "      <th>441</th>\n",
              "      <td>NaN</td>\n",
              "      <td>occupied Palestinian territory</td>\n",
              "      <td>31.9522</td>\n",
              "      <td>35.2332</td>\n",
              "      <td>0</td>\n",
              "      <td>0</td>\n",
              "      <td>0</td>\n",
              "      <td>0</td>\n",
              "      <td>0</td>\n",
              "      <td>0</td>\n",
              "      <td>0</td>\n",
              "      <td>0</td>\n",
              "      <td>0</td>\n",
              "      <td>0</td>\n",
              "      <td>0</td>\n",
              "      <td>0</td>\n",
              "      <td>0</td>\n",
              "      <td>0</td>\n",
              "      <td>0</td>\n",
              "      <td>0</td>\n",
              "      <td>0</td>\n",
              "      <td>0</td>\n",
              "      <td>0</td>\n",
              "      <td>0</td>\n",
              "      <td>0</td>\n",
              "      <td>0</td>\n",
              "      <td>0</td>\n",
              "      <td>0</td>\n",
              "      <td>0</td>\n",
              "      <td>0</td>\n",
              "      <td>0</td>\n",
              "      <td>0</td>\n",
              "      <td>0</td>\n",
              "      <td>0</td>\n",
              "      <td>0</td>\n",
              "      <td>0</td>\n",
              "      <td>0</td>\n",
              "      <td>0</td>\n",
              "      <td>0</td>\n",
              "      <td>0</td>\n",
              "      <td>0</td>\n",
              "      <td>0</td>\n",
              "      <td>0</td>\n",
              "      <td>0</td>\n",
              "      <td>0</td>\n",
              "      <td>0</td>\n",
              "      <td>0</td>\n",
              "      <td>0</td>\n",
              "      <td>0</td>\n",
              "      <td>0</td>\n",
              "      <td>0</td>\n",
              "      <td>0</td>\n",
              "      <td>0</td>\n",
              "      <td>0</td>\n",
              "      <td>0</td>\n",
              "      <td>0</td>\n",
              "      <td>0</td>\n",
              "    </tr>\n",
              "  </tbody>\n",
              "</table>\n",
              "<p>442 rows × 57 columns</p>\n",
              "</div>"
            ],
            "text/plain": [
              "           Province/State                    Country/Region  ...  3/13/20  3/14/20\n",
              "0                     NaN                          Thailand  ...        1        1\n",
              "1                     NaN                             Japan  ...       19       22\n",
              "2                     NaN                         Singapore  ...        0        0\n",
              "3                     NaN                             Nepal  ...        0        0\n",
              "4                     NaN                          Malaysia  ...        0        0\n",
              "..                    ...                               ...  ...      ...      ...\n",
              "437                   NaN                       Saint Lucia  ...        0        0\n",
              "438                   NaN  Saint Vincent and the Grenadines  ...        0        0\n",
              "439                   NaN                          Suriname  ...        0        0\n",
              "440  Virgin Islands, U.S.                                US  ...        0        0\n",
              "441                   NaN    occupied Palestinian territory  ...        0        0\n",
              "\n",
              "[442 rows x 57 columns]"
            ]
          },
          "metadata": {
            "tags": []
          },
          "execution_count": 40
        }
      ]
    },
    {
      "cell_type": "code",
      "metadata": {
        "id": "T6bXhOcGLm_r",
        "colab_type": "code",
        "outputId": "290a9bce-6944-4bc7-e5fc-7b44660f48c2",
        "colab": {
          "base_uri": "https://localhost:8080/",
          "height": 506
        }
      },
      "source": [
        "# replace all NA's with 0\n",
        "dataset.fillna(0)\n"
      ],
      "execution_count": 0,
      "outputs": [
        {
          "output_type": "execute_result",
          "data": {
            "text/html": [
              "<div>\n",
              "<style scoped>\n",
              "    .dataframe tbody tr th:only-of-type {\n",
              "        vertical-align: middle;\n",
              "    }\n",
              "\n",
              "    .dataframe tbody tr th {\n",
              "        vertical-align: top;\n",
              "    }\n",
              "\n",
              "    .dataframe thead th {\n",
              "        text-align: right;\n",
              "    }\n",
              "</style>\n",
              "<table border=\"1\" class=\"dataframe\">\n",
              "  <thead>\n",
              "    <tr style=\"text-align: right;\">\n",
              "      <th></th>\n",
              "      <th>Province/State</th>\n",
              "      <th>Country/Region</th>\n",
              "      <th>Lat</th>\n",
              "      <th>Long</th>\n",
              "      <th>1/22/20</th>\n",
              "      <th>1/23/20</th>\n",
              "      <th>1/24/20</th>\n",
              "      <th>1/25/20</th>\n",
              "      <th>1/26/20</th>\n",
              "      <th>1/27/20</th>\n",
              "      <th>1/28/20</th>\n",
              "      <th>1/29/20</th>\n",
              "      <th>1/30/20</th>\n",
              "      <th>1/31/20</th>\n",
              "      <th>2/1/20</th>\n",
              "      <th>2/2/20</th>\n",
              "      <th>2/3/20</th>\n",
              "      <th>2/4/20</th>\n",
              "      <th>2/5/20</th>\n",
              "      <th>2/6/20</th>\n",
              "      <th>2/7/20</th>\n",
              "      <th>2/8/20</th>\n",
              "      <th>2/9/20</th>\n",
              "      <th>2/10/20</th>\n",
              "      <th>2/11/20</th>\n",
              "      <th>2/12/20</th>\n",
              "      <th>2/13/20</th>\n",
              "      <th>2/14/20</th>\n",
              "      <th>2/15/20</th>\n",
              "      <th>2/16/20</th>\n",
              "      <th>2/17/20</th>\n",
              "      <th>2/18/20</th>\n",
              "      <th>2/19/20</th>\n",
              "      <th>2/20/20</th>\n",
              "      <th>2/21/20</th>\n",
              "      <th>2/22/20</th>\n",
              "      <th>2/23/20</th>\n",
              "      <th>2/24/20</th>\n",
              "      <th>2/25/20</th>\n",
              "      <th>2/26/20</th>\n",
              "      <th>2/27/20</th>\n",
              "      <th>2/28/20</th>\n",
              "      <th>2/29/20</th>\n",
              "      <th>3/1/20</th>\n",
              "      <th>3/2/20</th>\n",
              "      <th>3/3/20</th>\n",
              "      <th>3/4/20</th>\n",
              "      <th>3/5/20</th>\n",
              "      <th>3/6/20</th>\n",
              "      <th>3/7/20</th>\n",
              "      <th>3/8/20</th>\n",
              "      <th>3/9/20</th>\n",
              "      <th>3/10/20</th>\n",
              "      <th>3/11/20</th>\n",
              "      <th>3/12/20</th>\n",
              "      <th>3/13/20</th>\n",
              "      <th>3/14/20</th>\n",
              "    </tr>\n",
              "  </thead>\n",
              "  <tbody>\n",
              "    <tr>\n",
              "      <th>0</th>\n",
              "      <td>0</td>\n",
              "      <td>Thailand</td>\n",
              "      <td>15.0000</td>\n",
              "      <td>101.0000</td>\n",
              "      <td>0</td>\n",
              "      <td>0</td>\n",
              "      <td>0</td>\n",
              "      <td>0</td>\n",
              "      <td>0</td>\n",
              "      <td>0</td>\n",
              "      <td>0</td>\n",
              "      <td>0</td>\n",
              "      <td>0</td>\n",
              "      <td>0</td>\n",
              "      <td>0</td>\n",
              "      <td>0</td>\n",
              "      <td>0</td>\n",
              "      <td>0</td>\n",
              "      <td>0</td>\n",
              "      <td>0</td>\n",
              "      <td>0</td>\n",
              "      <td>0</td>\n",
              "      <td>0</td>\n",
              "      <td>0</td>\n",
              "      <td>0</td>\n",
              "      <td>0</td>\n",
              "      <td>0</td>\n",
              "      <td>0</td>\n",
              "      <td>0</td>\n",
              "      <td>0</td>\n",
              "      <td>0</td>\n",
              "      <td>0</td>\n",
              "      <td>0</td>\n",
              "      <td>0</td>\n",
              "      <td>0</td>\n",
              "      <td>0</td>\n",
              "      <td>0</td>\n",
              "      <td>0</td>\n",
              "      <td>0</td>\n",
              "      <td>0</td>\n",
              "      <td>0</td>\n",
              "      <td>0</td>\n",
              "      <td>0</td>\n",
              "      <td>1</td>\n",
              "      <td>1</td>\n",
              "      <td>1</td>\n",
              "      <td>1</td>\n",
              "      <td>1</td>\n",
              "      <td>1</td>\n",
              "      <td>1</td>\n",
              "      <td>1</td>\n",
              "      <td>1</td>\n",
              "      <td>1</td>\n",
              "      <td>1</td>\n",
              "      <td>1</td>\n",
              "      <td>1</td>\n",
              "      <td>1</td>\n",
              "    </tr>\n",
              "    <tr>\n",
              "      <th>1</th>\n",
              "      <td>0</td>\n",
              "      <td>Japan</td>\n",
              "      <td>36.0000</td>\n",
              "      <td>138.0000</td>\n",
              "      <td>0</td>\n",
              "      <td>0</td>\n",
              "      <td>0</td>\n",
              "      <td>0</td>\n",
              "      <td>0</td>\n",
              "      <td>0</td>\n",
              "      <td>0</td>\n",
              "      <td>0</td>\n",
              "      <td>0</td>\n",
              "      <td>0</td>\n",
              "      <td>0</td>\n",
              "      <td>0</td>\n",
              "      <td>0</td>\n",
              "      <td>0</td>\n",
              "      <td>0</td>\n",
              "      <td>0</td>\n",
              "      <td>0</td>\n",
              "      <td>0</td>\n",
              "      <td>0</td>\n",
              "      <td>0</td>\n",
              "      <td>0</td>\n",
              "      <td>0</td>\n",
              "      <td>1</td>\n",
              "      <td>1</td>\n",
              "      <td>1</td>\n",
              "      <td>1</td>\n",
              "      <td>1</td>\n",
              "      <td>1</td>\n",
              "      <td>1</td>\n",
              "      <td>1</td>\n",
              "      <td>1</td>\n",
              "      <td>1</td>\n",
              "      <td>1</td>\n",
              "      <td>1</td>\n",
              "      <td>1</td>\n",
              "      <td>2</td>\n",
              "      <td>4</td>\n",
              "      <td>4</td>\n",
              "      <td>5</td>\n",
              "      <td>6</td>\n",
              "      <td>6</td>\n",
              "      <td>6</td>\n",
              "      <td>6</td>\n",
              "      <td>6</td>\n",
              "      <td>6</td>\n",
              "      <td>6</td>\n",
              "      <td>6</td>\n",
              "      <td>10</td>\n",
              "      <td>10</td>\n",
              "      <td>15</td>\n",
              "      <td>16</td>\n",
              "      <td>19</td>\n",
              "      <td>22</td>\n",
              "    </tr>\n",
              "    <tr>\n",
              "      <th>2</th>\n",
              "      <td>0</td>\n",
              "      <td>Singapore</td>\n",
              "      <td>1.2833</td>\n",
              "      <td>103.8333</td>\n",
              "      <td>0</td>\n",
              "      <td>0</td>\n",
              "      <td>0</td>\n",
              "      <td>0</td>\n",
              "      <td>0</td>\n",
              "      <td>0</td>\n",
              "      <td>0</td>\n",
              "      <td>0</td>\n",
              "      <td>0</td>\n",
              "      <td>0</td>\n",
              "      <td>0</td>\n",
              "      <td>0</td>\n",
              "      <td>0</td>\n",
              "      <td>0</td>\n",
              "      <td>0</td>\n",
              "      <td>0</td>\n",
              "      <td>0</td>\n",
              "      <td>0</td>\n",
              "      <td>0</td>\n",
              "      <td>0</td>\n",
              "      <td>0</td>\n",
              "      <td>0</td>\n",
              "      <td>0</td>\n",
              "      <td>0</td>\n",
              "      <td>0</td>\n",
              "      <td>0</td>\n",
              "      <td>0</td>\n",
              "      <td>0</td>\n",
              "      <td>0</td>\n",
              "      <td>0</td>\n",
              "      <td>0</td>\n",
              "      <td>0</td>\n",
              "      <td>0</td>\n",
              "      <td>0</td>\n",
              "      <td>0</td>\n",
              "      <td>0</td>\n",
              "      <td>0</td>\n",
              "      <td>0</td>\n",
              "      <td>0</td>\n",
              "      <td>0</td>\n",
              "      <td>0</td>\n",
              "      <td>0</td>\n",
              "      <td>0</td>\n",
              "      <td>0</td>\n",
              "      <td>0</td>\n",
              "      <td>0</td>\n",
              "      <td>0</td>\n",
              "      <td>0</td>\n",
              "      <td>0</td>\n",
              "      <td>0</td>\n",
              "      <td>0</td>\n",
              "      <td>0</td>\n",
              "      <td>0</td>\n",
              "    </tr>\n",
              "    <tr>\n",
              "      <th>3</th>\n",
              "      <td>0</td>\n",
              "      <td>Nepal</td>\n",
              "      <td>28.1667</td>\n",
              "      <td>84.2500</td>\n",
              "      <td>0</td>\n",
              "      <td>0</td>\n",
              "      <td>0</td>\n",
              "      <td>0</td>\n",
              "      <td>0</td>\n",
              "      <td>0</td>\n",
              "      <td>0</td>\n",
              "      <td>0</td>\n",
              "      <td>0</td>\n",
              "      <td>0</td>\n",
              "      <td>0</td>\n",
              "      <td>0</td>\n",
              "      <td>0</td>\n",
              "      <td>0</td>\n",
              "      <td>0</td>\n",
              "      <td>0</td>\n",
              "      <td>0</td>\n",
              "      <td>0</td>\n",
              "      <td>0</td>\n",
              "      <td>0</td>\n",
              "      <td>0</td>\n",
              "      <td>0</td>\n",
              "      <td>0</td>\n",
              "      <td>0</td>\n",
              "      <td>0</td>\n",
              "      <td>0</td>\n",
              "      <td>0</td>\n",
              "      <td>0</td>\n",
              "      <td>0</td>\n",
              "      <td>0</td>\n",
              "      <td>0</td>\n",
              "      <td>0</td>\n",
              "      <td>0</td>\n",
              "      <td>0</td>\n",
              "      <td>0</td>\n",
              "      <td>0</td>\n",
              "      <td>0</td>\n",
              "      <td>0</td>\n",
              "      <td>0</td>\n",
              "      <td>0</td>\n",
              "      <td>0</td>\n",
              "      <td>0</td>\n",
              "      <td>0</td>\n",
              "      <td>0</td>\n",
              "      <td>0</td>\n",
              "      <td>0</td>\n",
              "      <td>0</td>\n",
              "      <td>0</td>\n",
              "      <td>0</td>\n",
              "      <td>0</td>\n",
              "      <td>0</td>\n",
              "      <td>0</td>\n",
              "      <td>0</td>\n",
              "    </tr>\n",
              "    <tr>\n",
              "      <th>4</th>\n",
              "      <td>0</td>\n",
              "      <td>Malaysia</td>\n",
              "      <td>2.5000</td>\n",
              "      <td>112.5000</td>\n",
              "      <td>0</td>\n",
              "      <td>0</td>\n",
              "      <td>0</td>\n",
              "      <td>0</td>\n",
              "      <td>0</td>\n",
              "      <td>0</td>\n",
              "      <td>0</td>\n",
              "      <td>0</td>\n",
              "      <td>0</td>\n",
              "      <td>0</td>\n",
              "      <td>0</td>\n",
              "      <td>0</td>\n",
              "      <td>0</td>\n",
              "      <td>0</td>\n",
              "      <td>0</td>\n",
              "      <td>0</td>\n",
              "      <td>0</td>\n",
              "      <td>0</td>\n",
              "      <td>0</td>\n",
              "      <td>0</td>\n",
              "      <td>0</td>\n",
              "      <td>0</td>\n",
              "      <td>0</td>\n",
              "      <td>0</td>\n",
              "      <td>0</td>\n",
              "      <td>0</td>\n",
              "      <td>0</td>\n",
              "      <td>0</td>\n",
              "      <td>0</td>\n",
              "      <td>0</td>\n",
              "      <td>0</td>\n",
              "      <td>0</td>\n",
              "      <td>0</td>\n",
              "      <td>0</td>\n",
              "      <td>0</td>\n",
              "      <td>0</td>\n",
              "      <td>0</td>\n",
              "      <td>0</td>\n",
              "      <td>0</td>\n",
              "      <td>0</td>\n",
              "      <td>0</td>\n",
              "      <td>0</td>\n",
              "      <td>0</td>\n",
              "      <td>0</td>\n",
              "      <td>0</td>\n",
              "      <td>0</td>\n",
              "      <td>0</td>\n",
              "      <td>0</td>\n",
              "      <td>0</td>\n",
              "      <td>0</td>\n",
              "      <td>0</td>\n",
              "      <td>0</td>\n",
              "      <td>0</td>\n",
              "    </tr>\n",
              "    <tr>\n",
              "      <th>...</th>\n",
              "      <td>...</td>\n",
              "      <td>...</td>\n",
              "      <td>...</td>\n",
              "      <td>...</td>\n",
              "      <td>...</td>\n",
              "      <td>...</td>\n",
              "      <td>...</td>\n",
              "      <td>...</td>\n",
              "      <td>...</td>\n",
              "      <td>...</td>\n",
              "      <td>...</td>\n",
              "      <td>...</td>\n",
              "      <td>...</td>\n",
              "      <td>...</td>\n",
              "      <td>...</td>\n",
              "      <td>...</td>\n",
              "      <td>...</td>\n",
              "      <td>...</td>\n",
              "      <td>...</td>\n",
              "      <td>...</td>\n",
              "      <td>...</td>\n",
              "      <td>...</td>\n",
              "      <td>...</td>\n",
              "      <td>...</td>\n",
              "      <td>...</td>\n",
              "      <td>...</td>\n",
              "      <td>...</td>\n",
              "      <td>...</td>\n",
              "      <td>...</td>\n",
              "      <td>...</td>\n",
              "      <td>...</td>\n",
              "      <td>...</td>\n",
              "      <td>...</td>\n",
              "      <td>...</td>\n",
              "      <td>...</td>\n",
              "      <td>...</td>\n",
              "      <td>...</td>\n",
              "      <td>...</td>\n",
              "      <td>...</td>\n",
              "      <td>...</td>\n",
              "      <td>...</td>\n",
              "      <td>...</td>\n",
              "      <td>...</td>\n",
              "      <td>...</td>\n",
              "      <td>...</td>\n",
              "      <td>...</td>\n",
              "      <td>...</td>\n",
              "      <td>...</td>\n",
              "      <td>...</td>\n",
              "      <td>...</td>\n",
              "      <td>...</td>\n",
              "      <td>...</td>\n",
              "      <td>...</td>\n",
              "      <td>...</td>\n",
              "      <td>...</td>\n",
              "      <td>...</td>\n",
              "      <td>...</td>\n",
              "    </tr>\n",
              "    <tr>\n",
              "      <th>437</th>\n",
              "      <td>0</td>\n",
              "      <td>Saint Lucia</td>\n",
              "      <td>13.9094</td>\n",
              "      <td>-60.9789</td>\n",
              "      <td>0</td>\n",
              "      <td>0</td>\n",
              "      <td>0</td>\n",
              "      <td>0</td>\n",
              "      <td>0</td>\n",
              "      <td>0</td>\n",
              "      <td>0</td>\n",
              "      <td>0</td>\n",
              "      <td>0</td>\n",
              "      <td>0</td>\n",
              "      <td>0</td>\n",
              "      <td>0</td>\n",
              "      <td>0</td>\n",
              "      <td>0</td>\n",
              "      <td>0</td>\n",
              "      <td>0</td>\n",
              "      <td>0</td>\n",
              "      <td>0</td>\n",
              "      <td>0</td>\n",
              "      <td>0</td>\n",
              "      <td>0</td>\n",
              "      <td>0</td>\n",
              "      <td>0</td>\n",
              "      <td>0</td>\n",
              "      <td>0</td>\n",
              "      <td>0</td>\n",
              "      <td>0</td>\n",
              "      <td>0</td>\n",
              "      <td>0</td>\n",
              "      <td>0</td>\n",
              "      <td>0</td>\n",
              "      <td>0</td>\n",
              "      <td>0</td>\n",
              "      <td>0</td>\n",
              "      <td>0</td>\n",
              "      <td>0</td>\n",
              "      <td>0</td>\n",
              "      <td>0</td>\n",
              "      <td>0</td>\n",
              "      <td>0</td>\n",
              "      <td>0</td>\n",
              "      <td>0</td>\n",
              "      <td>0</td>\n",
              "      <td>0</td>\n",
              "      <td>0</td>\n",
              "      <td>0</td>\n",
              "      <td>0</td>\n",
              "      <td>0</td>\n",
              "      <td>0</td>\n",
              "      <td>0</td>\n",
              "      <td>0</td>\n",
              "      <td>0</td>\n",
              "      <td>0</td>\n",
              "    </tr>\n",
              "    <tr>\n",
              "      <th>438</th>\n",
              "      <td>0</td>\n",
              "      <td>Saint Vincent and the Grenadines</td>\n",
              "      <td>12.9843</td>\n",
              "      <td>-61.2872</td>\n",
              "      <td>0</td>\n",
              "      <td>0</td>\n",
              "      <td>0</td>\n",
              "      <td>0</td>\n",
              "      <td>0</td>\n",
              "      <td>0</td>\n",
              "      <td>0</td>\n",
              "      <td>0</td>\n",
              "      <td>0</td>\n",
              "      <td>0</td>\n",
              "      <td>0</td>\n",
              "      <td>0</td>\n",
              "      <td>0</td>\n",
              "      <td>0</td>\n",
              "      <td>0</td>\n",
              "      <td>0</td>\n",
              "      <td>0</td>\n",
              "      <td>0</td>\n",
              "      <td>0</td>\n",
              "      <td>0</td>\n",
              "      <td>0</td>\n",
              "      <td>0</td>\n",
              "      <td>0</td>\n",
              "      <td>0</td>\n",
              "      <td>0</td>\n",
              "      <td>0</td>\n",
              "      <td>0</td>\n",
              "      <td>0</td>\n",
              "      <td>0</td>\n",
              "      <td>0</td>\n",
              "      <td>0</td>\n",
              "      <td>0</td>\n",
              "      <td>0</td>\n",
              "      <td>0</td>\n",
              "      <td>0</td>\n",
              "      <td>0</td>\n",
              "      <td>0</td>\n",
              "      <td>0</td>\n",
              "      <td>0</td>\n",
              "      <td>0</td>\n",
              "      <td>0</td>\n",
              "      <td>0</td>\n",
              "      <td>0</td>\n",
              "      <td>0</td>\n",
              "      <td>0</td>\n",
              "      <td>0</td>\n",
              "      <td>0</td>\n",
              "      <td>0</td>\n",
              "      <td>0</td>\n",
              "      <td>0</td>\n",
              "      <td>0</td>\n",
              "      <td>0</td>\n",
              "      <td>0</td>\n",
              "    </tr>\n",
              "    <tr>\n",
              "      <th>439</th>\n",
              "      <td>0</td>\n",
              "      <td>Suriname</td>\n",
              "      <td>3.9193</td>\n",
              "      <td>-56.0278</td>\n",
              "      <td>0</td>\n",
              "      <td>0</td>\n",
              "      <td>0</td>\n",
              "      <td>0</td>\n",
              "      <td>0</td>\n",
              "      <td>0</td>\n",
              "      <td>0</td>\n",
              "      <td>0</td>\n",
              "      <td>0</td>\n",
              "      <td>0</td>\n",
              "      <td>0</td>\n",
              "      <td>0</td>\n",
              "      <td>0</td>\n",
              "      <td>0</td>\n",
              "      <td>0</td>\n",
              "      <td>0</td>\n",
              "      <td>0</td>\n",
              "      <td>0</td>\n",
              "      <td>0</td>\n",
              "      <td>0</td>\n",
              "      <td>0</td>\n",
              "      <td>0</td>\n",
              "      <td>0</td>\n",
              "      <td>0</td>\n",
              "      <td>0</td>\n",
              "      <td>0</td>\n",
              "      <td>0</td>\n",
              "      <td>0</td>\n",
              "      <td>0</td>\n",
              "      <td>0</td>\n",
              "      <td>0</td>\n",
              "      <td>0</td>\n",
              "      <td>0</td>\n",
              "      <td>0</td>\n",
              "      <td>0</td>\n",
              "      <td>0</td>\n",
              "      <td>0</td>\n",
              "      <td>0</td>\n",
              "      <td>0</td>\n",
              "      <td>0</td>\n",
              "      <td>0</td>\n",
              "      <td>0</td>\n",
              "      <td>0</td>\n",
              "      <td>0</td>\n",
              "      <td>0</td>\n",
              "      <td>0</td>\n",
              "      <td>0</td>\n",
              "      <td>0</td>\n",
              "      <td>0</td>\n",
              "      <td>0</td>\n",
              "      <td>0</td>\n",
              "      <td>0</td>\n",
              "      <td>0</td>\n",
              "    </tr>\n",
              "    <tr>\n",
              "      <th>440</th>\n",
              "      <td>Virgin Islands, U.S.</td>\n",
              "      <td>US</td>\n",
              "      <td>18.3358</td>\n",
              "      <td>-64.8963</td>\n",
              "      <td>0</td>\n",
              "      <td>0</td>\n",
              "      <td>0</td>\n",
              "      <td>0</td>\n",
              "      <td>0</td>\n",
              "      <td>0</td>\n",
              "      <td>0</td>\n",
              "      <td>0</td>\n",
              "      <td>0</td>\n",
              "      <td>0</td>\n",
              "      <td>0</td>\n",
              "      <td>0</td>\n",
              "      <td>0</td>\n",
              "      <td>0</td>\n",
              "      <td>0</td>\n",
              "      <td>0</td>\n",
              "      <td>0</td>\n",
              "      <td>0</td>\n",
              "      <td>0</td>\n",
              "      <td>0</td>\n",
              "      <td>0</td>\n",
              "      <td>0</td>\n",
              "      <td>0</td>\n",
              "      <td>0</td>\n",
              "      <td>0</td>\n",
              "      <td>0</td>\n",
              "      <td>0</td>\n",
              "      <td>0</td>\n",
              "      <td>0</td>\n",
              "      <td>0</td>\n",
              "      <td>0</td>\n",
              "      <td>0</td>\n",
              "      <td>0</td>\n",
              "      <td>0</td>\n",
              "      <td>0</td>\n",
              "      <td>0</td>\n",
              "      <td>0</td>\n",
              "      <td>0</td>\n",
              "      <td>0</td>\n",
              "      <td>0</td>\n",
              "      <td>0</td>\n",
              "      <td>0</td>\n",
              "      <td>0</td>\n",
              "      <td>0</td>\n",
              "      <td>0</td>\n",
              "      <td>0</td>\n",
              "      <td>0</td>\n",
              "      <td>0</td>\n",
              "      <td>0</td>\n",
              "      <td>0</td>\n",
              "      <td>0</td>\n",
              "      <td>0</td>\n",
              "      <td>0</td>\n",
              "    </tr>\n",
              "    <tr>\n",
              "      <th>441</th>\n",
              "      <td>0</td>\n",
              "      <td>occupied Palestinian territory</td>\n",
              "      <td>31.9522</td>\n",
              "      <td>35.2332</td>\n",
              "      <td>0</td>\n",
              "      <td>0</td>\n",
              "      <td>0</td>\n",
              "      <td>0</td>\n",
              "      <td>0</td>\n",
              "      <td>0</td>\n",
              "      <td>0</td>\n",
              "      <td>0</td>\n",
              "      <td>0</td>\n",
              "      <td>0</td>\n",
              "      <td>0</td>\n",
              "      <td>0</td>\n",
              "      <td>0</td>\n",
              "      <td>0</td>\n",
              "      <td>0</td>\n",
              "      <td>0</td>\n",
              "      <td>0</td>\n",
              "      <td>0</td>\n",
              "      <td>0</td>\n",
              "      <td>0</td>\n",
              "      <td>0</td>\n",
              "      <td>0</td>\n",
              "      <td>0</td>\n",
              "      <td>0</td>\n",
              "      <td>0</td>\n",
              "      <td>0</td>\n",
              "      <td>0</td>\n",
              "      <td>0</td>\n",
              "      <td>0</td>\n",
              "      <td>0</td>\n",
              "      <td>0</td>\n",
              "      <td>0</td>\n",
              "      <td>0</td>\n",
              "      <td>0</td>\n",
              "      <td>0</td>\n",
              "      <td>0</td>\n",
              "      <td>0</td>\n",
              "      <td>0</td>\n",
              "      <td>0</td>\n",
              "      <td>0</td>\n",
              "      <td>0</td>\n",
              "      <td>0</td>\n",
              "      <td>0</td>\n",
              "      <td>0</td>\n",
              "      <td>0</td>\n",
              "      <td>0</td>\n",
              "      <td>0</td>\n",
              "      <td>0</td>\n",
              "      <td>0</td>\n",
              "      <td>0</td>\n",
              "      <td>0</td>\n",
              "      <td>0</td>\n",
              "      <td>0</td>\n",
              "    </tr>\n",
              "  </tbody>\n",
              "</table>\n",
              "<p>442 rows × 57 columns</p>\n",
              "</div>"
            ],
            "text/plain": [
              "           Province/State                    Country/Region  ...  3/13/20  3/14/20\n",
              "0                       0                          Thailand  ...        1        1\n",
              "1                       0                             Japan  ...       19       22\n",
              "2                       0                         Singapore  ...        0        0\n",
              "3                       0                             Nepal  ...        0        0\n",
              "4                       0                          Malaysia  ...        0        0\n",
              "..                    ...                               ...  ...      ...      ...\n",
              "437                     0                       Saint Lucia  ...        0        0\n",
              "438                     0  Saint Vincent and the Grenadines  ...        0        0\n",
              "439                     0                          Suriname  ...        0        0\n",
              "440  Virgin Islands, U.S.                                US  ...        0        0\n",
              "441                     0    occupied Palestinian territory  ...        0        0\n",
              "\n",
              "[442 rows x 57 columns]"
            ]
          },
          "metadata": {
            "tags": []
          },
          "execution_count": 39
        }
      ]
    },
    {
      "cell_type": "markdown",
      "metadata": {
        "id": "I0y0nxlL1DBA",
        "colab_type": "text"
      },
      "source": [
        "#Plotting\n"
      ]
    },
    {
      "cell_type": "markdown",
      "metadata": {
        "id": "Lbb-0zAEqmvf",
        "colab_type": "text"
      },
      "source": [
        "plot the number of deaths against each of the top 5 states in both China and US."
      ]
    },
    {
      "cell_type": "code",
      "metadata": {
        "id": "ZSB1kEmCy0QD",
        "colab_type": "code",
        "colab": {}
      },
      "source": [
        "\n",
        "def pltTop(coun):\n",
        "\n",
        "  coun=dict(coun)\n",
        "  \n",
        "  plt.plot(list(coun.keys()), list(coun.values()), marker='', color='red', linewidth=2,label=\"death cases\")\n",
        "  plt.xticks(rotation=90)\n",
        "  plt.show()\n",
        "\n",
        "\n",
        "\n",
        "  #chin=dict(chin)\n",
        "\n",
        "# import matplotlib.pyplot as plt;\n",
        "# chin=dict(chin)\n",
        "# plt.plot(list(chin.keys()), list(chin.values()), marker='', color='red', linewidth=2,label=\"death cases\")\n",
        "# \n",
        "\n",
        "\n",
        "# plt.show()\n",
        "\n",
        "\n",
        "\n",
        "\n"
      ],
      "execution_count": 0,
      "outputs": []
    },
    {
      "cell_type": "code",
      "metadata": {
        "id": "5Jc1tz8DyYas",
        "colab_type": "code",
        "outputId": "9d600937-f976-4afd-a661-c04118b834a8",
        "colab": {
          "base_uri": "https://localhost:8080/",
          "height": 673
        }
      },
      "source": [
        "print('For China')\n",
        "pltTop(chin)\n",
        "print('For US')\n",
        "pltTop(US)"
      ],
      "execution_count": 0,
      "outputs": [
        {
          "output_type": "stream",
          "text": [
            "For China\n"
          ],
          "name": "stdout"
        },
        {
          "output_type": "display_data",
          "data": {
            "image/png": "[encoded data removed]",
            "text/plain": [
              "<Figure size 432x288 with 1 Axes>"
            ]
          },
          "metadata": {
            "tags": []
          }
        },
        {
          "output_type": "stream",
          "text": [
            "For US\n"
          ],
          "name": "stdout"
        },
        {
          "output_type": "display_data",
          "data": {
            "image/png": "[encoded data removed]",
            "text/plain": [
              "<Figure size 432x288 with 1 Axes>"
            ]
          },
          "metadata": {
            "tags": []
          }
        }
      ]
    },
    {
      "cell_type": "markdown",
      "metadata": {
        "id": "5a4jFKjhQO8s",
        "colab_type": "text"
      },
      "source": [
        "#**note the above data dont make much of a sense, I am now plotting the growth of death curve wrt China and US**"
      ]
    },
    {
      "cell_type": "code",
      "metadata": {
        "id": "3m3F_ScQ-tE9",
        "colab_type": "code",
        "colab": {}
      },
      "source": [
        "def curve(provi, df):\n",
        "  df=df.groupby(['Province/State']).get_group(provi)\n",
        "  crv=df.groupby(['ObservationDate'])\n",
        "\n",
        "  values=crv.groups.keys()\n",
        "  prov=dict()\n",
        "  sum=0\n",
        "  for x in values:\n",
        "    \n",
        "  \n",
        "    sum=crv.get_group(x)['Deaths'].sum()\n",
        "    prov[x]=sum\n",
        "  return(prov)"
      ],
      "execution_count": 0,
      "outputs": []
    },
    {
      "cell_type": "markdown",
      "metadata": {
        "id": "3QgxQZSuQgMq",
        "colab_type": "text"
      },
      "source": [
        "#for China"
      ]
    },
    {
      "cell_type": "code",
      "metadata": {
        "id": "WXMaBkZPAEp-",
        "colab_type": "code",
        "colab": {}
      },
      "source": [
        "# china=df.groupby(['Country/Region']).get_group('Mainland China')\n",
        "# # chinaProvinces = ['Hubei', 'Henan', 'Heilongjiang', 'Beijing', 'Guangdong']\n",
        "# dfx=china.groupby(['Province/State']).get_group('Hubei')\n",
        "\n",
        "# dfx=dfx.groupby(['ObservationDate'])\n",
        "# # dfx\n",
        "# values=dfx.groups.keys()\n",
        "# # values\n",
        "# prov=dict()\n",
        "# for x in values:\n",
        "#   sum=dfx.get_group(x)['Deaths'].sum()\n",
        "#   prov[x]=sum\n",
        "# # print( prov)\n",
        "# print(prov)\n",
        "# # chin=dict(prov)\n",
        "# # plt.plot(list(chin.keys()), list(chin.values()), marker='', color='red', linewidth=2)\n",
        "# # #plt.xticks(rotation=90)\n",
        "# # #   # prov= (sorted(prov.items(), key=lambda x: x[1], reverse=True)[:10])\n",
        "# # #   # return(prov)\n",
        "\n",
        "\n",
        "\n",
        "#curve('Hubei',china)"
      ],
      "execution_count": 0,
      "outputs": []
    },
    {
      "cell_type": "code",
      "metadata": {
        "id": "hADjVKxXIFZK",
        "colab_type": "code",
        "outputId": "9ae17582-32a8-40b2-c0dd-a08d33690da8",
        "colab": {
          "base_uri": "https://localhost:8080/",
          "height": 1000
        }
      },
      "source": [
        "\n",
        "chinaProvinces = ['Hubei', 'Henan', 'Heilongjiang', 'Beijing', 'Guangdong']\n",
        "for c in chinaProvinces:\n",
        "  provC=curve(c,china) \n",
        "  print('Death Curve for',c)\n",
        "  fig= plt.figure(figsize=(16,13))\n",
        "  plt.xticks(rotation=90)\n",
        "  plt.title('Death Curve for'+c)\n",
        "  plt.plot(list(provC.keys()), list(provC.values()),color='red', linewidth=2)\n",
        "  \n",
        "  \n",
        "\n",
        "  \n"
      ],
      "execution_count": 0,
      "outputs": [
        {
          "output_type": "stream",
          "text": [
            "Death Curve for Hubei\n",
            "Death Curve for Henan\n",
            "Death Curve for Heilongjiang\n",
            "Death Curve for Beijing\n",
            "Death Curve for Guangdong\n"
          ],
          "name": "stdout"
        },
        {
          "output_type": "display_data",
          "data": {
            "image/png": "[encoded data removed]",
            "text/plain": [
              "<Figure size 1152x936 with 1 Axes>"
            ]
          },
          "metadata": {
            "tags": []
          }
        },
        {
          "output_type": "display_data",
          "data": {
            "image/png": "[encoded data removed]",
            "text/plain": [
              "<Figure size 1152x936 with 1 Axes>"
            ]
          },
          "metadata": {
            "tags": []
          }
        },
        {
          "output_type": "display_data",
          "data": {
            "image/png": "[encoded data removed]",
            "text/plain": [
              "<Figure size 1152x936 with 1 Axes>"
            ]
          },
          "metadata": {
            "tags": []
          }
        },
        {
          "output_type": "display_data",
          "data": {
            "image/png": "[encoded data removed]",
            "text/plain": [
              "<Figure size 1152x936 with 1 Axes>"
            ]
          },
          "metadata": {
            "tags": []
          }
        },
        {
          "output_type": "display_data",
          "data": {
            "image/png": "[encoded data removed]",
            "text/plain": [
              "<Figure size 1152x936 with 1 Axes>"
            ]
          },
          "metadata": {
            "tags": []
          }
        }
      ]
    },
    {
      "cell_type": "markdown",
      "metadata": {
        "id": "MpynjvAuQ0QU",
        "colab_type": "text"
      },
      "source": [
        "For US"
      ]
    },
    {
      "cell_type": "code",
      "metadata": {
        "id": "XhdXDHfxQzeE",
        "colab_type": "code",
        "outputId": "335f3128-ab9f-4c55-bcb7-8adbee4d4cc6",
        "colab": {
          "base_uri": "https://localhost:8080/",
          "height": 1000
        }
      },
      "source": [
        "UsP = ['Washington','California', 'Florida', 'New York']\n",
        "US=df.groupby(['Country/Region']).get_group('US')\n",
        "for c in UsP:\n",
        "  provC=curve(c,US) \n",
        "  print('Death Curve for',c)\n",
        "  fig= plt.figure(figsize=(16,13))\n",
        "  plt.xticks(rotation=90)\n",
        "  plt.title('Death Curve for'+c)\n",
        "  plt.plot(list(provC.keys()), list(provC.values()),color='red', linewidth=2)\n",
        "  \n",
        "  "
      ],
      "execution_count": 0,
      "outputs": [
        {
          "output_type": "stream",
          "text": [
            "Death Curve for Washington\n",
            "Death Curve for California\n",
            "Death Curve for Florida\n",
            "Death Curve for New York\n"
          ],
          "name": "stdout"
        },
        {
          "output_type": "display_data",
          "data": {
            "image/png": "[encoded data removed]",
            "text/plain": [
              "<Figure size 1152x936 with 1 Axes>"
            ]
          },
          "metadata": {
            "tags": []
          }
        },
        {
          "output_type": "display_data",
          "data": {
            "image/png": "[encoded data removed]",
            "text/plain": [
              "<Figure size 1152x936 with 1 Axes>"
            ]
          },
          "metadata": {
            "tags": []
          }
        },
        {
          "output_type": "display_data",
          "data": {
            "image/png": "[encoded data removed]",
            "text/plain": [
              "<Figure size 1152x936 with 1 Axes>"
            ]
          },
          "metadata": {
            "tags": []
          }
        },
        {
          "output_type": "display_data",
          "data": {
            "image/png": "[encoded data removed]",
            "text/plain": [
              "<Figure size 1152x936 with 1 Axes>"
            ]
          },
          "metadata": {
            "tags": []
          }
        }
      ]
    },
    {
      "cell_type": "markdown",
      "metadata": {
        "id": "fsks4XbyRx_P",
        "colab_type": "text"
      },
      "source": [
        "#### Question # 05\n",
        "\n",
        "This aspect is interesting since we would get to work with Geographical Plots. You have the latitude and longitude data from the `time_series_covid_19_deaths.csv` data file. You will use that for this question.\n",
        "\n",
        "We will use BaseMap library to plot the latitude and longitude points on the world map.\n",
        "You can download BaseMap by running the following command in your terminal/command line prompt: \n",
        "```\n",
        "pip3 install https://github.com/matplotlib/basemap/archive/v1.1.0.tar.gz\n",
        "```\n",
        "\n",
        "1. Once you have it installed, load up a basic world map and plot the values.\n",
        "2. By visually examining, answer in which countries, the points scatter the most?\n",
        "\n",
        "For reference and working directions with Basemap, you may take help from this video tutorial: <a href=\"https://www.youtube.com/watch?time_continue=114&v=XiZbrii49pI&feature=emb_title\" BASEMAP >BASEMAP TUTORIAL</a>"
      ]
    },
    {
      "cell_type": "code",
      "metadata": {
        "id": "nk-C8dfuRx_S",
        "colab_type": "code",
        "outputId": "f64726c6-3f18-4d41-c33a-903f5eed965d",
        "colab": {
          "base_uri": "https://localhost:8080/",
          "height": 978
        }
      },
      "source": [
        "!apt-get install libgeos-3.5.0\n",
        "!apt-get install libgeos-dev\n",
        "!pip install https://github.com/matplotlib/basemap/archive/master.zip\n"
      ],
      "execution_count": 0,
      "outputs": [
        {
          "output_type": "stream",
          "text": [
            "\rReading package lists... 0%\r\rReading package lists... 0%\r\rReading package lists... 0%\r\rReading package lists... 7%\r\rReading package lists... 7%\r\rReading package lists... 7%\r\rReading package lists... 7%\r\rReading package lists... 58%\r\rReading package lists... 64%\r\rReading package lists... 64%\r\rReading package lists... 65%\r\rReading package lists... 65%\r\rReading package lists... 72%\r\rReading package lists... 72%\r\rReading package lists... 72%\r\rReading package lists... 72%\r\rReading package lists... 81%\r\rReading package lists... 81%\r\rReading package lists... 81%\r\rReading package lists... 81%\r\rReading package lists... 81%\r\rReading package lists... 81%\r\rReading package lists... 81%\r\rReading package lists... 81%\r\rReading package lists... 87%\r\rReading package lists... 87%\r\rReading package lists... 87%\r\rReading package lists... 87%\r\rReading package lists... 93%\r\rReading package lists... 93%\r\rReading package lists... 93%\r\rReading package lists... 93%\r\rReading package lists... 93%\r\rReading package lists... 93%\r\rReading package lists... 94%\r\rReading package lists... 94%\r\rReading package lists... 95%\r\rReading package lists... 95%\r\rReading package lists... 98%\r\rReading package lists... 98%\r\rReading package lists... 98%\r\rReading package lists... 98%\r\rReading package lists... Done\r\n",
            "\rBuilding dependency tree... 0%\r\rBuilding dependency tree... 0%\r\rBuilding dependency tree... 50%\r\rBuilding dependency tree... 50%\r\rBuilding dependency tree... 97%\r\rBuilding dependency tree       \r\n",
            "\rReading state information... 0%\r\rReading state information... 0%\r\rReading state information... Done\r\n",
            "E: Unable to locate package libgeos-3.5.0\n",
            "E: Couldn't find any package by glob 'libgeos-3.5.0'\n",
            "E: Couldn't find any package by regex 'libgeos-3.5.0'\n",
            "Reading package lists... Done\n",
            "Building dependency tree       \n",
            "Reading state information... Done\n",
            "Suggested packages:\n",
            "  libgdal-doc\n",
            "The following NEW packages will be installed:\n",
            "  libgeos-dev\n",
            "0 upgraded, 1 newly installed, 0 to remove and 25 not upgraded.\n",
            "Need to get 73.1 kB of archives.\n",
            "After this operation, 486 kB of additional disk space will be used.\n",
            "Get:1 http://archive.ubuntu.com/ubuntu bionic/universe amd64 libgeos-dev amd64 3.6.2-1build2 [73.1 kB]\n",
            "Fetched 73.1 kB in 1s (143 kB/s)\n",
            "Selecting previously unselected package libgeos-dev.\n",
            "(Reading database ... 133872 files and directories currently installed.)\n",
            "Preparing to unpack .../libgeos-dev_3.6.2-1build2_amd64.deb ...\n",
            "Unpacking libgeos-dev (3.6.2-1build2) ...\n",
            "Setting up libgeos-dev (3.6.2-1build2) ...\n",
            "Processing triggers for man-db (2.8.3-2ubuntu0.1) ...\n",
            "Collecting https://github.com/matplotlib/basemap/archive/master.zip\n",
            "\u001b[?25l  Downloading https://github.com/matplotlib/basemap/archive/master.zip\n",
            "\u001b[K     | 207.6MB 452kB/s\n",
            "\u001b[?25hRequirement already satisfied: matplotlib!=3.0.1,>=1.0.0 in /usr/local/lib/python3.6/dist-packages (from basemap==1.2.1) (3.2.0)\n",
            "Requirement already satisfied: numpy>=1.2.1 in /usr/local/lib/python3.6/dist-packages (from basemap==1.2.1) (1.18.2)\n",
            "Collecting pyproj>=1.9.3\n",
            "\u001b[?25l  Downloading https://files.pythonhosted.org/packages/ce/37/705ee471f71130d4ceee41bbcb06f3b52175cb89273cbb5755ed5e6374e0/pyproj-2.6.0-cp36-cp36m-manylinux2010_x86_64.whl (10.4MB)\n",
            "\u001b[K     |████████████████████████████████| 10.4MB 2.7MB/s \n",
            "\u001b[?25hCollecting pyshp>=1.2.0\n",
            "\u001b[?25l  Downloading https://files.pythonhosted.org/packages/27/16/3bf15aa864fb77845fab8007eda22c2bd67bd6c1fd13496df452c8c43621/pyshp-2.1.0.tar.gz (215kB)\n",
            "\u001b[K     |████████████████████████████████| 225kB 50.7MB/s \n",
            "\u001b[?25hRequirement already satisfied: six in /usr/local/lib/python3.6/dist-packages (from basemap==1.2.1) (1.12.0)\n",
            "Requirement already satisfied: pyparsing!=2.0.4,!=2.1.2,!=2.1.6,>=2.0.1 in /usr/local/lib/python3.6/dist-packages (from matplotlib!=3.0.1,>=1.0.0->basemap==1.2.1) (2.4.6)\n",
            "Requirement already satisfied: cycler>=0.10 in /usr/local/lib/python3.6/dist-packages (from matplotlib!=3.0.1,>=1.0.0->basemap==1.2.1) (0.10.0)\n",
            "Requirement already satisfied: python-dateutil>=2.1 in /usr/local/lib/python3.6/dist-packages (from matplotlib!=3.0.1,>=1.0.0->basemap==1.2.1) (2.8.1)\n",
            "Requirement already satisfied: kiwisolver>=1.0.1 in /usr/local/lib/python3.6/dist-packages (from matplotlib!=3.0.1,>=1.0.0->basemap==1.2.1) (1.1.0)\n",
            "Requirement already satisfied: setuptools in /usr/local/lib/python3.6/dist-packages (from kiwisolver>=1.0.1->matplotlib!=3.0.1,>=1.0.0->basemap==1.2.1) (46.0.0)\n",
            "Building wheels for collected packages: basemap, pyshp\n",
            "  Building wheel for basemap (setup.py) ... \u001b[?25l\u001b[?25hdone\n",
            "  Created wheel for basemap: filename=basemap-1.2.1-cp36-cp36m-linux_x86_64.whl size=121756010 sha256=967bb2c572ab0efc2f5ce5ac2c94aa25ecaa541951fb1d4c57ada130b95872d3\n",
            "  Stored in directory: /tmp/pip-ephem-wheel-cache-tg96r2yf/wheels/98/4a/fc/ce719b75d97e646645c225f3332b1b217536100314922e9572\n",
            "  Building wheel for pyshp (setup.py) ... \u001b[?25l\u001b[?25hdone\n",
            "  Created wheel for pyshp: filename=pyshp-2.1.0-cp36-none-any.whl size=32609 sha256=749ff3c3da69922fed81695811481ce62623077b4ed0119a485959323e04cf7b\n",
            "  Stored in directory: /root/.cache/pip/wheels/a6/0c/de/321b5192ad416b328975a2f0385f72c64db4656501eba7cc1a\n",
            "Successfully built basemap pyshp\n",
            "Installing collected packages: pyproj, pyshp, basemap\n",
            "Successfully installed basemap-1.2.1 pyproj-2.6.0 pyshp-2.1.0\n"
          ],
          "name": "stdout"
        },
        {
          "output_type": "display_data",
          "data": {
            "application/vnd.colab-display-data+json": {
              "pip_warning": {
                "packages": [
                  "mpl_toolkits"
                ]
              }
            }
          },
          "metadata": {
            "tags": []
          }
        }
      ]
    },
    {
      "cell_type": "code",
      "metadata": {
        "id": "oHdTGnvSEcq-",
        "colab_type": "code",
        "outputId": "21fe74a1-2efc-4323-99b0-f72f385bcf81",
        "colab": {
          "base_uri": "https://localhost:8080/",
          "height": 537
        }
      },
      "source": [
        "\n",
        "import matplotlib.pyplot as plt\n",
        "import numpy as np\n",
        "import pandas as pd\n",
        "from mpl_toolkits.basemap import Basemap\n",
        "\n",
        "dataset = pd.read_csv('time_series_covid_19_deaths.csv')\n",
        "\n",
        "\n",
        "fig = plt.figure(figsize=(12,9))\n",
        "\n",
        "m = Basemap(projection='mill',\n",
        "           llcrnrlat = -90,\n",
        "           urcrnrlat = 90,\n",
        "           llcrnrlon = -180,\n",
        "           urcrnrlon = 180,\n",
        "           resolution = 'c')\n",
        "\n",
        "m.drawcoastlines()\n",
        "m.drawparallels(np.arange(-90,90,10),labels=[True,False,False,False])\n",
        "m.drawmeridians(np.arange(-180,180,30),labels=[0,0,0,1])\n",
        "\n",
        "latitude = dataset['Lat'].tolist()\n",
        "longitude = dataset['Long'].tolist()\n",
        "\n",
        "m.scatter(longitude,latitude,latlon=True, s=500, c='blue', marker='x', alpha=1)\n",
        "\n",
        "\n",
        "\n",
        "plt.show()"
      ],
      "execution_count": 0,
      "outputs": [
        {
          "output_type": "display_data",
          "data": {
            "image/png": "[encoded data removed]",
            "text/plain": [
              "<Figure size 864x648 with 1 Axes>"
            ]
          },
          "metadata": {
            "tags": []
          }
        }
      ]
    },
    {
      "cell_type": "markdown",
      "metadata": {
        "id": "xE2pwj0CRx_d",
        "colab_type": "text"
      },
      "source": [
        "#### Question # 06\n",
        "\n",
        "For this question, we will use the `COVID19_open_line_list.csv` file. \n",
        "\n",
        "1. Read the data file and examine the features\n",
        "2. We will be working with these feature columns: `age, sex, symptoms, city, province, lives_in_Wuhan, and travel_history_location`.\n",
        "3. Since these are textual values, you need to encode them to integers (maintain an encoding dictionary as well).\n",
        "    * For example in `symptoms` column, you might assign fever -> 1, pneumonia -> 2, headache -> 3, etc.\n",
        "    * There are several multiple symptoms as well for a single row, for those you can just sum the assigned integers. For example a row might list these symptons: fever, headache, since fever -> 1 and headache -> 3, you can replace fever, headache with 1+3 = 4 and so on. Start the integer encoding from 1 so that when summing the numbers, you donot get the same number back (e.g. 0+3 = 3).\n",
        "    * You can do the same for other columns, just to avoid ambiguity, you can encode each column differently. \n",
        "    * For example, for the `symptoms` column, you starting assigning numbers from 1, let's say there were 4 symptoms, so the numbers would range from 1 - 4. For the next column, you can use numbers from 5 and so on. You are free to encode as you want. \n",
        "    * For ease, you can also use sklearn's LabelEncoder.\n",
        "4. Once you have integer coded the entire dataset (7 columns), you can compute the correlation between city (let city column be `y` for this case) and every other column.\n",
        "5. Pick the most 2 correlated fields (using the absolute value of correlations) and make `X`.\n",
        "6. Use MinMaxScaler to scale X. Note that this will output a `np.array`. Make it a DataFrame again and rename the columns appropriately.\n",
        "7. Print the head (5 rows) and tail (5 rows) of this dataframe."
      ]
    },
    {
      "cell_type": "code",
      "metadata": {
        "id": "WswP7HAhRx_g",
        "colab_type": "code",
        "colab": {}
      },
      "source": [
        "df=pd.read_csv('COVID19_open_line_list.csv')"
      ],
      "execution_count": 0,
      "outputs": []
    },
    {
      "cell_type": "code",
      "metadata": {
        "id": "rNkFo8Y_3qIY",
        "colab_type": "code",
        "outputId": "64e82c16-ee3d-4dd7-edf2-6eaa4ecd9d48",
        "colab": {
          "base_uri": "https://localhost:8080/",
          "height": 321
        }
      },
      "source": [
        "df.describe()"
      ],
      "execution_count": 0,
      "outputs": [
        {
          "output_type": "execute_result",
          "data": {
            "text/html": [
              "<div>\n",
              "<style scoped>\n",
              "    .dataframe tbody tr th:only-of-type {\n",
              "        vertical-align: middle;\n",
              "    }\n",
              "\n",
              "    .dataframe tbody tr th {\n",
              "        vertical-align: top;\n",
              "    }\n",
              "\n",
              "    .dataframe thead th {\n",
              "        text-align: right;\n",
              "    }\n",
              "</style>\n",
              "<table border=\"1\" class=\"dataframe\">\n",
              "  <thead>\n",
              "    <tr style=\"text-align: right;\">\n",
              "      <th></th>\n",
              "      <th>ID</th>\n",
              "      <th>wuhan(0)_not_wuhan(1)</th>\n",
              "      <th>latitude</th>\n",
              "      <th>longitude</th>\n",
              "      <th>chronic_disease_binary</th>\n",
              "      <th>Unnamed: 33</th>\n",
              "      <th>Unnamed: 34</th>\n",
              "      <th>Unnamed: 35</th>\n",
              "      <th>Unnamed: 36</th>\n",
              "      <th>Unnamed: 37</th>\n",
              "      <th>Unnamed: 38</th>\n",
              "      <th>Unnamed: 39</th>\n",
              "      <th>Unnamed: 40</th>\n",
              "      <th>Unnamed: 41</th>\n",
              "      <th>Unnamed: 42</th>\n",
              "      <th>Unnamed: 43</th>\n",
              "      <th>Unnamed: 44</th>\n",
              "    </tr>\n",
              "  </thead>\n",
              "  <tbody>\n",
              "    <tr>\n",
              "      <th>count</th>\n",
              "      <td>13173.000000</td>\n",
              "      <td>13170.0</td>\n",
              "      <td>13147.000000</td>\n",
              "      <td>13147.000000</td>\n",
              "      <td>18.000000</td>\n",
              "      <td>0.0</td>\n",
              "      <td>0.0</td>\n",
              "      <td>0.0</td>\n",
              "      <td>0.0</td>\n",
              "      <td>0.0</td>\n",
              "      <td>0.0</td>\n",
              "      <td>0.0</td>\n",
              "      <td>0.0</td>\n",
              "      <td>0.0</td>\n",
              "      <td>0.0</td>\n",
              "      <td>0.0</td>\n",
              "      <td>0.0</td>\n",
              "    </tr>\n",
              "    <tr>\n",
              "      <th>mean</th>\n",
              "      <td>6769.250436</td>\n",
              "      <td>1.0</td>\n",
              "      <td>31.994650</td>\n",
              "      <td>110.495353</td>\n",
              "      <td>0.722222</td>\n",
              "      <td>NaN</td>\n",
              "      <td>NaN</td>\n",
              "      <td>NaN</td>\n",
              "      <td>NaN</td>\n",
              "      <td>NaN</td>\n",
              "      <td>NaN</td>\n",
              "      <td>NaN</td>\n",
              "      <td>NaN</td>\n",
              "      <td>NaN</td>\n",
              "      <td>NaN</td>\n",
              "      <td>NaN</td>\n",
              "      <td>NaN</td>\n",
              "    </tr>\n",
              "    <tr>\n",
              "      <th>std</th>\n",
              "      <td>3920.886020</td>\n",
              "      <td>0.0</td>\n",
              "      <td>7.536335</td>\n",
              "      <td>27.985144</td>\n",
              "      <td>0.460889</td>\n",
              "      <td>NaN</td>\n",
              "      <td>NaN</td>\n",
              "      <td>NaN</td>\n",
              "      <td>NaN</td>\n",
              "      <td>NaN</td>\n",
              "      <td>NaN</td>\n",
              "      <td>NaN</td>\n",
              "      <td>NaN</td>\n",
              "      <td>NaN</td>\n",
              "      <td>NaN</td>\n",
              "      <td>NaN</td>\n",
              "      <td>NaN</td>\n",
              "    </tr>\n",
              "    <tr>\n",
              "      <th>min</th>\n",
              "      <td>1.000000</td>\n",
              "      <td>1.0</td>\n",
              "      <td>-37.813600</td>\n",
              "      <td>-124.953070</td>\n",
              "      <td>0.000000</td>\n",
              "      <td>NaN</td>\n",
              "      <td>NaN</td>\n",
              "      <td>NaN</td>\n",
              "      <td>NaN</td>\n",
              "      <td>NaN</td>\n",
              "      <td>NaN</td>\n",
              "      <td>NaN</td>\n",
              "      <td>NaN</td>\n",
              "      <td>NaN</td>\n",
              "      <td>NaN</td>\n",
              "      <td>NaN</td>\n",
              "      <td>NaN</td>\n",
              "    </tr>\n",
              "    <tr>\n",
              "      <th>25%</th>\n",
              "      <td>3351.000000</td>\n",
              "      <td>1.0</td>\n",
              "      <td>27.905380</td>\n",
              "      <td>111.729600</td>\n",
              "      <td>0.250000</td>\n",
              "      <td>NaN</td>\n",
              "      <td>NaN</td>\n",
              "      <td>NaN</td>\n",
              "      <td>NaN</td>\n",
              "      <td>NaN</td>\n",
              "      <td>NaN</td>\n",
              "      <td>NaN</td>\n",
              "      <td>NaN</td>\n",
              "      <td>NaN</td>\n",
              "      <td>NaN</td>\n",
              "      <td>NaN</td>\n",
              "      <td>NaN</td>\n",
              "    </tr>\n",
              "    <tr>\n",
              "      <th>50%</th>\n",
              "      <td>6865.000000</td>\n",
              "      <td>1.0</td>\n",
              "      <td>31.759410</td>\n",
              "      <td>115.441800</td>\n",
              "      <td>1.000000</td>\n",
              "      <td>NaN</td>\n",
              "      <td>NaN</td>\n",
              "      <td>NaN</td>\n",
              "      <td>NaN</td>\n",
              "      <td>NaN</td>\n",
              "      <td>NaN</td>\n",
              "      <td>NaN</td>\n",
              "      <td>NaN</td>\n",
              "      <td>NaN</td>\n",
              "      <td>NaN</td>\n",
              "      <td>NaN</td>\n",
              "      <td>NaN</td>\n",
              "    </tr>\n",
              "    <tr>\n",
              "      <th>75%</th>\n",
              "      <td>10180.000000</td>\n",
              "      <td>1.0</td>\n",
              "      <td>35.781340</td>\n",
              "      <td>120.440400</td>\n",
              "      <td>1.000000</td>\n",
              "      <td>NaN</td>\n",
              "      <td>NaN</td>\n",
              "      <td>NaN</td>\n",
              "      <td>NaN</td>\n",
              "      <td>NaN</td>\n",
              "      <td>NaN</td>\n",
              "      <td>NaN</td>\n",
              "      <td>NaN</td>\n",
              "      <td>NaN</td>\n",
              "      <td>NaN</td>\n",
              "      <td>NaN</td>\n",
              "      <td>NaN</td>\n",
              "    </tr>\n",
              "    <tr>\n",
              "      <th>max</th>\n",
              "      <td>13479.000000</td>\n",
              "      <td>1.0</td>\n",
              "      <td>69.649468</td>\n",
              "      <td>153.400000</td>\n",
              "      <td>1.000000</td>\n",
              "      <td>NaN</td>\n",
              "      <td>NaN</td>\n",
              "      <td>NaN</td>\n",
              "      <td>NaN</td>\n",
              "      <td>NaN</td>\n",
              "      <td>NaN</td>\n",
              "      <td>NaN</td>\n",
              "      <td>NaN</td>\n",
              "      <td>NaN</td>\n",
              "      <td>NaN</td>\n",
              "      <td>NaN</td>\n",
              "      <td>NaN</td>\n",
              "    </tr>\n",
              "  </tbody>\n",
              "</table>\n",
              "</div>"
            ],
            "text/plain": [
              "                 ID  wuhan(0)_not_wuhan(1)  ...  Unnamed: 43  Unnamed: 44\n",
              "count  13173.000000                13170.0  ...          0.0          0.0\n",
              "mean    6769.250436                    1.0  ...          NaN          NaN\n",
              "std     3920.886020                    0.0  ...          NaN          NaN\n",
              "min        1.000000                    1.0  ...          NaN          NaN\n",
              "25%     3351.000000                    1.0  ...          NaN          NaN\n",
              "50%     6865.000000                    1.0  ...          NaN          NaN\n",
              "75%    10180.000000                    1.0  ...          NaN          NaN\n",
              "max    13479.000000                    1.0  ...          NaN          NaN\n",
              "\n",
              "[8 rows x 17 columns]"
            ]
          },
          "metadata": {
            "tags": []
          },
          "execution_count": 4
        }
      ]
    },
    {
      "cell_type": "code",
      "metadata": {
        "id": "Iyaq44be32j6",
        "colab_type": "code",
        "outputId": "eabf1c40-bfa8-457b-d3fc-c02a115aa434",
        "colab": {
          "base_uri": "https://localhost:8080/",
          "height": 235
        }
      },
      "source": [
        "df.columns"
      ],
      "execution_count": 0,
      "outputs": [
        {
          "output_type": "execute_result",
          "data": {
            "text/plain": [
              "Index(['ID', 'age', 'sex', 'city', 'province', 'country',\n",
              "       'wuhan(0)_not_wuhan(1)', 'latitude', 'longitude', 'geo_resolution',\n",
              "       'date_onset_symptoms', 'date_admission_hospital', 'date_confirmation',\n",
              "       'symptoms', 'lives_in_Wuhan', 'travel_history_dates',\n",
              "       'travel_history_location', 'reported_market_exposure',\n",
              "       'additional_information', 'chronic_disease_binary', 'chronic_disease',\n",
              "       'source', 'sequence_available', 'outcome', 'date_death_or_discharge',\n",
              "       'notes_for_discussion', 'location', 'admin3', 'admin2', 'admin1',\n",
              "       'country_new', 'admin_id', 'data_moderator_initials', 'Unnamed: 33',\n",
              "       'Unnamed: 34', 'Unnamed: 35', 'Unnamed: 36', 'Unnamed: 37',\n",
              "       'Unnamed: 38', 'Unnamed: 39', 'Unnamed: 40', 'Unnamed: 41',\n",
              "       'Unnamed: 42', 'Unnamed: 43', 'Unnamed: 44'],\n",
              "      dtype='object')"
            ]
          },
          "metadata": {
            "tags": []
          },
          "execution_count": 5
        }
      ]
    },
    {
      "cell_type": "code",
      "metadata": {
        "id": "AB8j80dY5cbz",
        "colab_type": "code",
        "outputId": "0330ae23-b69c-434a-cfc1-3b8e62860bba",
        "colab": {
          "base_uri": "https://localhost:8080/",
          "height": 402
        }
      },
      "source": [
        "df=df[['age', 'sex', 'symptoms', 'city', 'province', 'lives_in_Wuhan','travel_history_location']]\n",
        "df"
      ],
      "execution_count": 0,
      "outputs": [
        {
          "output_type": "execute_result",
          "data": {
            "text/html": [
              "<div>\n",
              "<style scoped>\n",
              "    .dataframe tbody tr th:only-of-type {\n",
              "        vertical-align: middle;\n",
              "    }\n",
              "\n",
              "    .dataframe tbody tr th {\n",
              "        vertical-align: top;\n",
              "    }\n",
              "\n",
              "    .dataframe thead th {\n",
              "        text-align: right;\n",
              "    }\n",
              "</style>\n",
              "<table border=\"1\" class=\"dataframe\">\n",
              "  <thead>\n",
              "    <tr style=\"text-align: right;\">\n",
              "      <th></th>\n",
              "      <th>age</th>\n",
              "      <th>sex</th>\n",
              "      <th>symptoms</th>\n",
              "      <th>city</th>\n",
              "      <th>province</th>\n",
              "      <th>lives_in_Wuhan</th>\n",
              "      <th>travel_history_location</th>\n",
              "    </tr>\n",
              "  </thead>\n",
              "  <tbody>\n",
              "    <tr>\n",
              "      <th>0</th>\n",
              "      <td>30</td>\n",
              "      <td>male</td>\n",
              "      <td>NaN</td>\n",
              "      <td>Chaohu City, Hefei City</td>\n",
              "      <td>Anhui</td>\n",
              "      <td>yes</td>\n",
              "      <td>Wuhan</td>\n",
              "    </tr>\n",
              "    <tr>\n",
              "      <th>1</th>\n",
              "      <td>47</td>\n",
              "      <td>male</td>\n",
              "      <td>NaN</td>\n",
              "      <td>Baohe District, Hefei City</td>\n",
              "      <td>Anhui</td>\n",
              "      <td>no</td>\n",
              "      <td>Luzhou Hunan, via Wuhan</td>\n",
              "    </tr>\n",
              "    <tr>\n",
              "      <th>2</th>\n",
              "      <td>49</td>\n",
              "      <td>male</td>\n",
              "      <td>NaN</td>\n",
              "      <td>High-Tech Zone, Hefei City</td>\n",
              "      <td>Anhui</td>\n",
              "      <td>no</td>\n",
              "      <td>Yinzhou Hunan, via Wuhan</td>\n",
              "    </tr>\n",
              "    <tr>\n",
              "      <th>3</th>\n",
              "      <td>47</td>\n",
              "      <td>female</td>\n",
              "      <td>NaN</td>\n",
              "      <td>High-Tech Zone, Hefei City</td>\n",
              "      <td>Anhui</td>\n",
              "      <td>no</td>\n",
              "      <td>NaN</td>\n",
              "    </tr>\n",
              "    <tr>\n",
              "      <th>4</th>\n",
              "      <td>50</td>\n",
              "      <td>female</td>\n",
              "      <td>NaN</td>\n",
              "      <td>Feidong County, Hefei City</td>\n",
              "      <td>Anhui</td>\n",
              "      <td>no</td>\n",
              "      <td>Wuhan</td>\n",
              "    </tr>\n",
              "    <tr>\n",
              "      <th>...</th>\n",
              "      <td>...</td>\n",
              "      <td>...</td>\n",
              "      <td>...</td>\n",
              "      <td>...</td>\n",
              "      <td>...</td>\n",
              "      <td>...</td>\n",
              "      <td>...</td>\n",
              "    </tr>\n",
              "    <tr>\n",
              "      <th>14121</th>\n",
              "      <td>NaN</td>\n",
              "      <td>NaN</td>\n",
              "      <td>NaN</td>\n",
              "      <td>NaN</td>\n",
              "      <td>NaN</td>\n",
              "      <td>NaN</td>\n",
              "      <td>NaN</td>\n",
              "    </tr>\n",
              "    <tr>\n",
              "      <th>14122</th>\n",
              "      <td>NaN</td>\n",
              "      <td>NaN</td>\n",
              "      <td>NaN</td>\n",
              "      <td>NaN</td>\n",
              "      <td>NaN</td>\n",
              "      <td>NaN</td>\n",
              "      <td>NaN</td>\n",
              "    </tr>\n",
              "    <tr>\n",
              "      <th>14123</th>\n",
              "      <td>NaN</td>\n",
              "      <td>NaN</td>\n",
              "      <td>NaN</td>\n",
              "      <td>NaN</td>\n",
              "      <td>NaN</td>\n",
              "      <td>NaN</td>\n",
              "      <td>NaN</td>\n",
              "    </tr>\n",
              "    <tr>\n",
              "      <th>14124</th>\n",
              "      <td>NaN</td>\n",
              "      <td>NaN</td>\n",
              "      <td>NaN</td>\n",
              "      <td>NaN</td>\n",
              "      <td>NaN</td>\n",
              "      <td>NaN</td>\n",
              "      <td>NaN</td>\n",
              "    </tr>\n",
              "    <tr>\n",
              "      <th>14125</th>\n",
              "      <td>NaN</td>\n",
              "      <td>NaN</td>\n",
              "      <td>NaN</td>\n",
              "      <td>NaN</td>\n",
              "      <td>NaN</td>\n",
              "      <td>NaN</td>\n",
              "      <td>NaN</td>\n",
              "    </tr>\n",
              "  </tbody>\n",
              "</table>\n",
              "<p>14126 rows × 7 columns</p>\n",
              "</div>"
            ],
            "text/plain": [
              "       age     sex symptoms  ... province lives_in_Wuhan   travel_history_location\n",
              "0       30    male      NaN  ...    Anhui            yes                     Wuhan\n",
              "1       47    male      NaN  ...    Anhui             no   Luzhou Hunan, via Wuhan\n",
              "2       49    male      NaN  ...    Anhui             no  Yinzhou Hunan, via Wuhan\n",
              "3       47  female      NaN  ...    Anhui             no                       NaN\n",
              "4       50  female      NaN  ...    Anhui             no                     Wuhan\n",
              "...    ...     ...      ...  ...      ...            ...                       ...\n",
              "14121  NaN     NaN      NaN  ...      NaN            NaN                       NaN\n",
              "14122  NaN     NaN      NaN  ...      NaN            NaN                       NaN\n",
              "14123  NaN     NaN      NaN  ...      NaN            NaN                       NaN\n",
              "14124  NaN     NaN      NaN  ...      NaN            NaN                       NaN\n",
              "14125  NaN     NaN      NaN  ...      NaN            NaN                       NaN\n",
              "\n",
              "[14126 rows x 7 columns]"
            ]
          },
          "metadata": {
            "tags": []
          },
          "execution_count": 8
        }
      ]
    },
    {
      "cell_type": "code",
      "metadata": {
        "id": "zXyio0Q49mbj",
        "colab_type": "code",
        "colab": {}
      },
      "source": [
        "df=df.fillna('NA')\n"
      ],
      "execution_count": 0,
      "outputs": []
    },
    {
      "cell_type": "code",
      "metadata": {
        "id": "x94uVz2B9s-0",
        "colab_type": "code",
        "colab": {}
      },
      "source": [
        "from sklearn import preprocessing\n",
        "le = preprocessing.LabelEncoder()\n",
        "\n",
        "for column in df.columns:\n",
        "  le.fit(df[column])\n",
        "  df[column] = le.transform(df[column])\n"
      ],
      "execution_count": 0,
      "outputs": []
    },
    {
      "cell_type": "code",
      "metadata": {
        "id": "6L37sdtv-esB",
        "colab_type": "code",
        "outputId": "cdb04fe8-f208-4cf6-823d-7f7ba2be1bda",
        "colab": {
          "base_uri": "https://localhost:8080/",
          "height": 34
        }
      },
      "source": [
        "le.inverse_transform"
      ],
      "execution_count": 0,
      "outputs": [
        {
          "output_type": "execute_result",
          "data": {
            "text/plain": [
              "<bound method LabelEncoder.inverse_transform of LabelEncoder()>"
            ]
          },
          "metadata": {
            "tags": []
          },
          "execution_count": 17
        }
      ]
    },
    {
      "cell_type": "code",
      "metadata": {
        "id": "Q7sO4nDR-pR2",
        "colab_type": "code",
        "outputId": "f78c78be-43bb-4278-be3b-39b1cbb10966",
        "colab": {
          "base_uri": "https://localhost:8080/",
          "height": 134
        }
      },
      "source": [
        "for col in list(df.columns):\n",
        "  print('Absolute value of city with', col, abs(df['city'].corr(df[col])))"
      ],
      "execution_count": 0,
      "outputs": [
        {
          "output_type": "stream",
          "text": [
            "Absolute value of correlatioin between city and age 0.06010611985495587\n",
            "Absolute value of correlatioin between city and sex 0.08383836348201464\n",
            "Absolute value of correlatioin between city and symptoms 0.047428758803770614\n",
            "Absolute value of correlatioin between city and city 1.0\n",
            "Absolute value of correlatioin between city and province 0.14296158283723115\n",
            "Absolute value of correlatioin between city and lives_in_Wuhan 0.05541514153675362\n",
            "Absolute value of correlatioin between city and travel_history_location 0.01997107127656418\n"
          ],
          "name": "stdout"
        }
      ]
    },
    {
      "cell_type": "code",
      "metadata": {
        "id": "sW5r1pex_x_Y",
        "colab_type": "code",
        "outputId": "dcc5c247-6ca5-49ac-c5e9-d82148dff609",
        "colab": {
          "base_uri": "https://localhost:8080/",
          "height": 254
        }
      },
      "source": [
        "df.corr()"
      ],
      "execution_count": 0,
      "outputs": [
        {
          "output_type": "execute_result",
          "data": {
            "text/html": [
              "<div>\n",
              "<style scoped>\n",
              "    .dataframe tbody tr th:only-of-type {\n",
              "        vertical-align: middle;\n",
              "    }\n",
              "\n",
              "    .dataframe tbody tr th {\n",
              "        vertical-align: top;\n",
              "    }\n",
              "\n",
              "    .dataframe thead th {\n",
              "        text-align: right;\n",
              "    }\n",
              "</style>\n",
              "<table border=\"1\" class=\"dataframe\">\n",
              "  <thead>\n",
              "    <tr style=\"text-align: right;\">\n",
              "      <th></th>\n",
              "      <th>age</th>\n",
              "      <th>sex</th>\n",
              "      <th>symptoms</th>\n",
              "      <th>city</th>\n",
              "      <th>province</th>\n",
              "      <th>lives_in_Wuhan</th>\n",
              "      <th>travel_history_location</th>\n",
              "    </tr>\n",
              "  </thead>\n",
              "  <tbody>\n",
              "    <tr>\n",
              "      <th>age</th>\n",
              "      <td>1.000000</td>\n",
              "      <td>-0.741257</td>\n",
              "      <td>-0.420462</td>\n",
              "      <td>0.060106</td>\n",
              "      <td>-0.011341</td>\n",
              "      <td>-0.405191</td>\n",
              "      <td>-0.256712</td>\n",
              "    </tr>\n",
              "    <tr>\n",
              "      <th>sex</th>\n",
              "      <td>-0.741257</td>\n",
              "      <td>1.000000</td>\n",
              "      <td>0.483601</td>\n",
              "      <td>-0.083838</td>\n",
              "      <td>0.022234</td>\n",
              "      <td>0.453334</td>\n",
              "      <td>0.264579</td>\n",
              "    </tr>\n",
              "    <tr>\n",
              "      <th>symptoms</th>\n",
              "      <td>-0.420462</td>\n",
              "      <td>0.483601</td>\n",
              "      <td>1.000000</td>\n",
              "      <td>-0.047429</td>\n",
              "      <td>0.011460</td>\n",
              "      <td>0.358518</td>\n",
              "      <td>0.210328</td>\n",
              "    </tr>\n",
              "    <tr>\n",
              "      <th>city</th>\n",
              "      <td>0.060106</td>\n",
              "      <td>-0.083838</td>\n",
              "      <td>-0.047429</td>\n",
              "      <td>1.000000</td>\n",
              "      <td>0.142962</td>\n",
              "      <td>-0.055415</td>\n",
              "      <td>-0.019971</td>\n",
              "    </tr>\n",
              "    <tr>\n",
              "      <th>province</th>\n",
              "      <td>-0.011341</td>\n",
              "      <td>0.022234</td>\n",
              "      <td>0.011460</td>\n",
              "      <td>0.142962</td>\n",
              "      <td>1.000000</td>\n",
              "      <td>0.015961</td>\n",
              "      <td>0.027648</td>\n",
              "    </tr>\n",
              "    <tr>\n",
              "      <th>lives_in_Wuhan</th>\n",
              "      <td>-0.405191</td>\n",
              "      <td>0.453334</td>\n",
              "      <td>0.358518</td>\n",
              "      <td>-0.055415</td>\n",
              "      <td>0.015961</td>\n",
              "      <td>1.000000</td>\n",
              "      <td>0.411611</td>\n",
              "    </tr>\n",
              "    <tr>\n",
              "      <th>travel_history_location</th>\n",
              "      <td>-0.256712</td>\n",
              "      <td>0.264579</td>\n",
              "      <td>0.210328</td>\n",
              "      <td>-0.019971</td>\n",
              "      <td>0.027648</td>\n",
              "      <td>0.411611</td>\n",
              "      <td>1.000000</td>\n",
              "    </tr>\n",
              "  </tbody>\n",
              "</table>\n",
              "</div>"
            ],
            "text/plain": [
              "                              age  ...  travel_history_location\n",
              "age                      1.000000  ...                -0.256712\n",
              "sex                     -0.741257  ...                 0.264579\n",
              "symptoms                -0.420462  ...                 0.210328\n",
              "city                     0.060106  ...                -0.019971\n",
              "province                -0.011341  ...                 0.027648\n",
              "lives_in_Wuhan          -0.405191  ...                 0.411611\n",
              "travel_history_location -0.256712  ...                 1.000000\n",
              "\n",
              "[7 rows x 7 columns]"
            ]
          },
          "metadata": {
            "tags": []
          },
          "execution_count": 18
        }
      ]
    },
    {
      "cell_type": "markdown",
      "metadata": {
        "id": "BKvV3-bOBe9W",
        "colab_type": "text"
      },
      "source": [
        "age and sex are related by a factor of 0.74"
      ]
    },
    {
      "cell_type": "code",
      "metadata": {
        "id": "GQtcAd4rBP8-",
        "colab_type": "code",
        "outputId": "d4d084c6-af33-431f-962b-fe6d27472ea8",
        "colab": {
          "base_uri": "https://localhost:8080/",
          "height": 402
        }
      },
      "source": [
        "X = df[['age','sex']]\n",
        "X"
      ],
      "execution_count": 0,
      "outputs": [
        {
          "output_type": "execute_result",
          "data": {
            "text/html": [
              "<div>\n",
              "<style scoped>\n",
              "    .dataframe tbody tr th:only-of-type {\n",
              "        vertical-align: middle;\n",
              "    }\n",
              "\n",
              "    .dataframe tbody tr th {\n",
              "        vertical-align: top;\n",
              "    }\n",
              "\n",
              "    .dataframe thead th {\n",
              "        text-align: right;\n",
              "    }\n",
              "</style>\n",
              "<table border=\"1\" class=\"dataframe\">\n",
              "  <thead>\n",
              "    <tr style=\"text-align: right;\">\n",
              "      <th></th>\n",
              "      <th>age</th>\n",
              "      <th>sex</th>\n",
              "    </tr>\n",
              "  </thead>\n",
              "  <tbody>\n",
              "    <tr>\n",
              "      <th>0</th>\n",
              "      <td>39</td>\n",
              "      <td>5</td>\n",
              "    </tr>\n",
              "    <tr>\n",
              "      <th>1</th>\n",
              "      <td>62</td>\n",
              "      <td>5</td>\n",
              "    </tr>\n",
              "    <tr>\n",
              "      <th>2</th>\n",
              "      <td>64</td>\n",
              "      <td>5</td>\n",
              "    </tr>\n",
              "    <tr>\n",
              "      <th>3</th>\n",
              "      <td>62</td>\n",
              "      <td>4</td>\n",
              "    </tr>\n",
              "    <tr>\n",
              "      <th>4</th>\n",
              "      <td>66</td>\n",
              "      <td>4</td>\n",
              "    </tr>\n",
              "    <tr>\n",
              "      <th>...</th>\n",
              "      <td>...</td>\n",
              "      <td>...</td>\n",
              "    </tr>\n",
              "    <tr>\n",
              "      <th>14121</th>\n",
              "      <td>116</td>\n",
              "      <td>3</td>\n",
              "    </tr>\n",
              "    <tr>\n",
              "      <th>14122</th>\n",
              "      <td>116</td>\n",
              "      <td>3</td>\n",
              "    </tr>\n",
              "    <tr>\n",
              "      <th>14123</th>\n",
              "      <td>116</td>\n",
              "      <td>3</td>\n",
              "    </tr>\n",
              "    <tr>\n",
              "      <th>14124</th>\n",
              "      <td>116</td>\n",
              "      <td>3</td>\n",
              "    </tr>\n",
              "    <tr>\n",
              "      <th>14125</th>\n",
              "      <td>116</td>\n",
              "      <td>3</td>\n",
              "    </tr>\n",
              "  </tbody>\n",
              "</table>\n",
              "<p>14126 rows × 2 columns</p>\n",
              "</div>"
            ],
            "text/plain": [
              "       age  sex\n",
              "0       39    5\n",
              "1       62    5\n",
              "2       64    5\n",
              "3       62    4\n",
              "4       66    4\n",
              "...    ...  ...\n",
              "14121  116    3\n",
              "14122  116    3\n",
              "14123  116    3\n",
              "14124  116    3\n",
              "14125  116    3\n",
              "\n",
              "[14126 rows x 2 columns]"
            ]
          },
          "metadata": {
            "tags": []
          },
          "execution_count": 19
        }
      ]
    },
    {
      "cell_type": "code",
      "metadata": {
        "id": "FMsmKlJ4CKCw",
        "colab_type": "code",
        "outputId": "3061bc71-ab11-470c-d108-069f0d6922f0",
        "colab": {
          "base_uri": "https://localhost:8080/",
          "height": 402
        }
      },
      "source": [
        "from sklearn.preprocessing import MinMaxScaler\n",
        "\n",
        "scaler = MinMaxScaler()\n",
        "scaler.fit(X)\n",
        "#scaler.transform(X)\n",
        "X=scaler.transform(X)\n",
        "X=pd.DataFrame(X)\n",
        "X.columns=['age','sex']\n",
        "X"
      ],
      "execution_count": 0,
      "outputs": [
        {
          "output_type": "execute_result",
          "data": {
            "text/html": [
              "<div>\n",
              "<style scoped>\n",
              "    .dataframe tbody tr th:only-of-type {\n",
              "        vertical-align: middle;\n",
              "    }\n",
              "\n",
              "    .dataframe tbody tr th {\n",
              "        vertical-align: top;\n",
              "    }\n",
              "\n",
              "    .dataframe thead th {\n",
              "        text-align: right;\n",
              "    }\n",
              "</style>\n",
              "<table border=\"1\" class=\"dataframe\">\n",
              "  <thead>\n",
              "    <tr style=\"text-align: right;\">\n",
              "      <th></th>\n",
              "      <th>age</th>\n",
              "      <th>sex</th>\n",
              "    </tr>\n",
              "  </thead>\n",
              "  <tbody>\n",
              "    <tr>\n",
              "      <th>0</th>\n",
              "      <td>0.336207</td>\n",
              "      <td>1.0</td>\n",
              "    </tr>\n",
              "    <tr>\n",
              "      <th>1</th>\n",
              "      <td>0.534483</td>\n",
              "      <td>1.0</td>\n",
              "    </tr>\n",
              "    <tr>\n",
              "      <th>2</th>\n",
              "      <td>0.551724</td>\n",
              "      <td>1.0</td>\n",
              "    </tr>\n",
              "    <tr>\n",
              "      <th>3</th>\n",
              "      <td>0.534483</td>\n",
              "      <td>0.8</td>\n",
              "    </tr>\n",
              "    <tr>\n",
              "      <th>4</th>\n",
              "      <td>0.568966</td>\n",
              "      <td>0.8</td>\n",
              "    </tr>\n",
              "    <tr>\n",
              "      <th>...</th>\n",
              "      <td>...</td>\n",
              "      <td>...</td>\n",
              "    </tr>\n",
              "    <tr>\n",
              "      <th>14121</th>\n",
              "      <td>1.000000</td>\n",
              "      <td>0.6</td>\n",
              "    </tr>\n",
              "    <tr>\n",
              "      <th>14122</th>\n",
              "      <td>1.000000</td>\n",
              "      <td>0.6</td>\n",
              "    </tr>\n",
              "    <tr>\n",
              "      <th>14123</th>\n",
              "      <td>1.000000</td>\n",
              "      <td>0.6</td>\n",
              "    </tr>\n",
              "    <tr>\n",
              "      <th>14124</th>\n",
              "      <td>1.000000</td>\n",
              "      <td>0.6</td>\n",
              "    </tr>\n",
              "    <tr>\n",
              "      <th>14125</th>\n",
              "      <td>1.000000</td>\n",
              "      <td>0.6</td>\n",
              "    </tr>\n",
              "  </tbody>\n",
              "</table>\n",
              "<p>14126 rows × 2 columns</p>\n",
              "</div>"
            ],
            "text/plain": [
              "            age  sex\n",
              "0      0.336207  1.0\n",
              "1      0.534483  1.0\n",
              "2      0.551724  1.0\n",
              "3      0.534483  0.8\n",
              "4      0.568966  0.8\n",
              "...         ...  ...\n",
              "14121  1.000000  0.6\n",
              "14122  1.000000  0.6\n",
              "14123  1.000000  0.6\n",
              "14124  1.000000  0.6\n",
              "14125  1.000000  0.6\n",
              "\n",
              "[14126 rows x 2 columns]"
            ]
          },
          "metadata": {
            "tags": []
          },
          "execution_count": 33
        }
      ]
    },
    {
      "cell_type": "code",
      "metadata": {
        "id": "2nXMIqhfEZgl",
        "colab_type": "code",
        "outputId": "b27060b2-5805-4ec1-d6a7-6c0d2fbec5f0",
        "colab": {
          "base_uri": "https://localhost:8080/",
          "height": 195
        }
      },
      "source": [
        "X.head()"
      ],
      "execution_count": 0,
      "outputs": [
        {
          "output_type": "execute_result",
          "data": {
            "text/html": [
              "<div>\n",
              "<style scoped>\n",
              "    .dataframe tbody tr th:only-of-type {\n",
              "        vertical-align: middle;\n",
              "    }\n",
              "\n",
              "    .dataframe tbody tr th {\n",
              "        vertical-align: top;\n",
              "    }\n",
              "\n",
              "    .dataframe thead th {\n",
              "        text-align: right;\n",
              "    }\n",
              "</style>\n",
              "<table border=\"1\" class=\"dataframe\">\n",
              "  <thead>\n",
              "    <tr style=\"text-align: right;\">\n",
              "      <th></th>\n",
              "      <th>age</th>\n",
              "      <th>sex</th>\n",
              "    </tr>\n",
              "  </thead>\n",
              "  <tbody>\n",
              "    <tr>\n",
              "      <th>0</th>\n",
              "      <td>0.336207</td>\n",
              "      <td>1.0</td>\n",
              "    </tr>\n",
              "    <tr>\n",
              "      <th>1</th>\n",
              "      <td>0.534483</td>\n",
              "      <td>1.0</td>\n",
              "    </tr>\n",
              "    <tr>\n",
              "      <th>2</th>\n",
              "      <td>0.551724</td>\n",
              "      <td>1.0</td>\n",
              "    </tr>\n",
              "    <tr>\n",
              "      <th>3</th>\n",
              "      <td>0.534483</td>\n",
              "      <td>0.8</td>\n",
              "    </tr>\n",
              "    <tr>\n",
              "      <th>4</th>\n",
              "      <td>0.568966</td>\n",
              "      <td>0.8</td>\n",
              "    </tr>\n",
              "  </tbody>\n",
              "</table>\n",
              "</div>"
            ],
            "text/plain": [
              "        age  sex\n",
              "0  0.336207  1.0\n",
              "1  0.534483  1.0\n",
              "2  0.551724  1.0\n",
              "3  0.534483  0.8\n",
              "4  0.568966  0.8"
            ]
          },
          "metadata": {
            "tags": []
          },
          "execution_count": 35
        }
      ]
    },
    {
      "cell_type": "code",
      "metadata": {
        "id": "VwP9MLl3EeCS",
        "colab_type": "code",
        "outputId": "7f7fbbba-ddd6-4748-fef0-fa5c21ea3073",
        "colab": {
          "base_uri": "https://localhost:8080/",
          "height": 195
        }
      },
      "source": [
        "X.tail()"
      ],
      "execution_count": 0,
      "outputs": [
        {
          "output_type": "execute_result",
          "data": {
            "text/html": [
              "<div>\n",
              "<style scoped>\n",
              "    .dataframe tbody tr th:only-of-type {\n",
              "        vertical-align: middle;\n",
              "    }\n",
              "\n",
              "    .dataframe tbody tr th {\n",
              "        vertical-align: top;\n",
              "    }\n",
              "\n",
              "    .dataframe thead th {\n",
              "        text-align: right;\n",
              "    }\n",
              "</style>\n",
              "<table border=\"1\" class=\"dataframe\">\n",
              "  <thead>\n",
              "    <tr style=\"text-align: right;\">\n",
              "      <th></th>\n",
              "      <th>age</th>\n",
              "      <th>sex</th>\n",
              "    </tr>\n",
              "  </thead>\n",
              "  <tbody>\n",
              "    <tr>\n",
              "      <th>14121</th>\n",
              "      <td>1.0</td>\n",
              "      <td>0.6</td>\n",
              "    </tr>\n",
              "    <tr>\n",
              "      <th>14122</th>\n",
              "      <td>1.0</td>\n",
              "      <td>0.6</td>\n",
              "    </tr>\n",
              "    <tr>\n",
              "      <th>14123</th>\n",
              "      <td>1.0</td>\n",
              "      <td>0.6</td>\n",
              "    </tr>\n",
              "    <tr>\n",
              "      <th>14124</th>\n",
              "      <td>1.0</td>\n",
              "      <td>0.6</td>\n",
              "    </tr>\n",
              "    <tr>\n",
              "      <th>14125</th>\n",
              "      <td>1.0</td>\n",
              "      <td>0.6</td>\n",
              "    </tr>\n",
              "  </tbody>\n",
              "</table>\n",
              "</div>"
            ],
            "text/plain": [
              "       age  sex\n",
              "14121  1.0  0.6\n",
              "14122  1.0  0.6\n",
              "14123  1.0  0.6\n",
              "14124  1.0  0.6\n",
              "14125  1.0  0.6"
            ]
          },
          "metadata": {
            "tags": []
          },
          "execution_count": 36
        }
      ]
    }
  ]
}